{
 "cells": [
  {
   "cell_type": "markdown",
   "id": "a62c7a6a-62bd-422c-8ff2-8c55f8dcf80a",
   "metadata": {},
   "source": [
    "## Room Occupancy detection data (IoT sensor)"
   ]
  },
  {
   "cell_type": "markdown",
   "id": "4fbc5d8b-8b89-4af5-8ee0-e11a1b94a123",
   "metadata": {},
   "source": [
    "1.  Gerçek IoT verisi üzerinde gözetimli öğrenme algoritmalarını test edeceksin. Amaç, verideki değişkenleri analiz ederek odada insan varlığını (occupancy) tespit etmek.\n",
    "\n",
    "2. Veriye ilişkin detaylı bilgi için \"Accurate occupancy detection of an office room from light, temperature, humidity and CO2 measurements using statistical learning models\" makalesini okuyabilirsiniz.\n",
    "\n",
    "3. Üç adet veri seti mevcut: Veriseti1: Kapılar kapalıyken alınmış ölçümler. Veriseti2: Kapılar kapalıyken alınmış başka bir veri seti. Veriseti3: Kapılar açıkken alınmış ölçümler.\n",
    "\n",
    "4. Hedef parametreniz Occupancy. İnsan varlığı 1, insan yokluğu 0 değerlerine karşılık geliyor."
   ]
  },
  {
   "cell_type": "markdown",
   "id": "7aecc659-0dbe-4af6-b60b-b3923de3f9de",
   "metadata": {},
   "source": [
    "**Veriseti1:** Kapılar kapalıyken alınmış ölçümler. Gate  = 0   \n",
    "**Veriseti2:** Kapılar kapalıyken alınmış başka bir veri seti. Gate  = 0     \n",
    "**Veriseti3:** Kapılar açıkken alınmış ölçümler. Gate  = 1"
   ]
  },
  {
   "cell_type": "markdown",
   "id": "d07389eb-a05d-43fe-bdd2-18bc21b8d867",
   "metadata": {},
   "source": [
    "**Temperature** = Sıcaklık   \n",
    "**Humidity** = Nem  \n",
    "**Light** = Işık  \n",
    "**CO2** = Oksijen  \n",
    "**HumidityRatio** = Nem Oranı  \n",
    "**Occupancy** = İnsan varlığı"
   ]
  },
  {
   "cell_type": "code",
   "execution_count": 97,
   "id": "0f1ca29b-141e-484a-8570-3a4e1faf4772",
   "metadata": {},
   "outputs": [],
   "source": [
    "import pandas as pd\n",
    "import matplotlib.pyplot as plt\n",
    "import numpy as np\n",
    "import seaborn as sns\n",
    "from sklearn.linear_model import LogisticRegression\n",
    "from sklearn.neighbors import KNeighborsClassifier\n",
    "from sklearn.preprocessing import LabelEncoder\n",
    "from sklearn.model_selection import GridSearchCV, cross_validate\n",
    "from sklearn.tree import DecisionTreeClassifier\n",
    "from sklearn.ensemble import RandomForestClassifier, GradientBoostingClassifier, VotingClassifier, AdaBoostClassifier\n",
    "from catboost import CatBoostClassifier\n",
    "from lightgbm import LGBMClassifier\n",
    "from xgboost import XGBClassifier\n",
    "from sklearn.svm import SVC\n",
    "from sklearn.preprocessing import StandardScaler\n",
    "\n",
    "\n",
    "pd.set_option('display.max_columns', None)\n",
    "pd.set_option('display.width', 170)\n",
    "pd.set_option('display.max_rows', None)\n",
    "pd.set_option('display.float_format', lambda x: '%.3f' % x)"
   ]
  },
  {
   "cell_type": "markdown",
   "id": "1058d395-6947-4624-b02d-66a12feea002",
   "metadata": {},
   "source": [
    "#### Proje kullanılan fonksiyonlar:   "
   ]
  },
  {
   "cell_type": "code",
   "execution_count": 98,
   "id": "c4cb363c-57da-4035-b7e3-6ff83516c555",
   "metadata": {},
   "outputs": [],
   "source": [
    "# df hakkında genel bilgi :  \n",
    "#veri seti hakkında genel bir bilgi almak için temek pandas fonksiyonlarını bir fonk. haline getirerek, \n",
    "#veri setini ilk bakışta analiz etmek için yazılıan fonksiyon. Bizden girdi olarak incelenmek istenen veri setini, ve head değerini istemkte.\n",
    "def check_df(dataframe,head = 5):\n",
    "    print(\" Shape \".center(60, '#'))\n",
    "    print('Observations -------> {}'.format(df.shape[0]))\n",
    "    print('Features     -------> {}'.format(df.shape[1]))\n",
    "    print(\" Types \".center(60, '#'))\n",
    "    print(dataframe.dtypes)\n",
    "    print(\" İnfo \".center(60, '#'))\n",
    "    print(dataframe.info())\n",
    "    print(\" Describe \".center(60, '#'))\n",
    "    print(dataframe.describe())\n",
    "    print(\" Head \".center(60, '#'))\n",
    "    print(dataframe.head(head))\n",
    "    print(\" Tail \".center(60, '#'))\n",
    "    print(dataframe.tail(head))\n",
    "    print(\" NA \".center(60, '#'))\n",
    "    print(dataframe.isnull().sum())\n",
    "    print(\" Quantiles \".center(60, '#'))\n",
    "    print(dataframe.quantile([0, 0.05, 0.50,0.60,0.80,0.95, 0.99, 1]).T)"
   ]
  },
  {
   "cell_type": "code",
   "execution_count": 99,
   "id": "2c5d5fc1-29b1-40b4-b307-0708ab03e601",
   "metadata": {},
   "outputs": [],
   "source": [
    "def grab_col_names(dataframe, cat_th=10, car_th=20):\n",
    "    \"\"\"\n",
    " Docstring\n",
    "\n",
    "Kullanılacak olan tüm fonksiyonların bir dökümantasyonu.\n",
    "\n",
    "    Veri setindeki kategorik, numerik ve kategorik fakat kardinal değişkenlerin isimlerini verir.(Yani veri setinde etkisi olmayan, \n",
    "    örneğim isim bilgisi olabilir.\n",
    "    Not: Kategorik değişkenlerin içerisine numerik görünümlü kategorik değişkenler de dahildir.\n",
    "\n",
    "    Parameters\n",
    "    ------\n",
    "        dataframe: dataframe\n",
    "                Değişken isimleri alınmak istenilen dataframe\n",
    "        cat_th: int, optional\n",
    "                numerik fakat kategorik olan değişkenler için sınıf eşik değeri\n",
    "        car_th: int, optinal\n",
    "                kategorik fakat kardinal değişkenler için sınıf eşik değeri\n",
    "\n",
    "    Returns\n",
    "    ------\n",
    "        cat_cols: list\n",
    "                Kategorik değişken listesi\n",
    "        num_cols: list\n",
    "                Numerik değişken listesi\n",
    "        cat_but_car: list\n",
    "                Kategorik görünümlü kardinal değişken listesi\n",
    "\n",
    "    Examples\n",
    "    ------\n",
    "         import seaborn as sns\n",
    "        df = sns.load_dataset(\"iris\")\n",
    "        print(grab_col_names(df))\n",
    "\n",
    "\n",
    "    Notes\n",
    "    ------\n",
    "        cat_cols + num_cols + cat_but_car = toplam değişken sayısı\n",
    "        num_but_cat cat_cols'un içerisinde.\n",
    "        Return olan 3 liste toplamı toplam değişken sayısına eşittir: cat_cols + num_cols + cat_but_car = değişken sayısı\n",
    "\n",
    "    \"\"\"\n",
    "\n",
    "    # cat_cols, cat_but_car\n",
    "    cat_cols = [col for col in dataframe.columns if dataframe[col].dtypes == \"O\"]\n",
    "    num_but_cat = [col for col in dataframe.columns if dataframe[col].nunique() < cat_th and\n",
    "                   dataframe[col].dtypes != \"O\"]\n",
    "    cat_but_car = [col for col in dataframe.columns if dataframe[col].nunique() > car_th and\n",
    "                   dataframe[col].dtypes == \"O\"]\n",
    "    cat_cols = cat_cols + num_but_cat\n",
    "    cat_cols = [col for col in cat_cols if col not in cat_but_car]\n",
    "\n",
    "    # num_cols\n",
    "    num_cols = [col for col in dataframe.columns if dataframe[col].dtypes != \"O\"]\n",
    "    num_cols = [col for col in num_cols if col not in num_but_cat]\n",
    "\n",
    "    print(f\"Observations: {dataframe.shape[0]}\")\n",
    "    print(f\"Variables: {dataframe.shape[1]}\")\n",
    "    print(f'cat_cols: {len(cat_cols)}')\n",
    "    print(f'num_cols: {len(num_cols)}')\n",
    "    print(f'cat_but_car: {len(cat_but_car)}')\n",
    "    print(f'num_but_cat: {len(num_but_cat)}')\n",
    "    return cat_cols, num_cols, cat_but_car"
   ]
  },
  {
   "cell_type": "code",
   "execution_count": 100,
   "id": "1ed94102-87c5-4c0c-ace5-4ef742dadc88",
   "metadata": {},
   "outputs": [],
   "source": [
    "# veri setini gezerek unung yani birbirinden farklı değer sayılarını döndürdü yanı grap.-col u teyit ettik\n",
    "def check_classes(df):\n",
    "    dict = {}\n",
    "    for i in df.columns:\n",
    "        dict[i] = df[i].value_counts().shape[0]\n",
    "\n",
    "    unq = pd.DataFrame(dict,index=[\"Unique Count\"]).transpose().sort_values(by=\"Unique Count\", ascending=False)\n",
    "    return unq"
   ]
  },
  {
   "cell_type": "code",
   "execution_count": 101,
   "id": "2b55680b-e229-467b-832e-288b35886399",
   "metadata": {},
   "outputs": [],
   "source": [
    "def correlation_matrix(df, cols):\n",
    "    fig = plt.gcf()\n",
    "    fig.set_size_inches(10, 8)\n",
    "    plt.xticks(fontsize=15)\n",
    "    plt.yticks(fontsize=15)\n",
    "    fig = sns.heatmap(df[cols].corr(), annot=True, linewidths=0.5, annot_kws={'size': 12}, linecolor='w', cmap='RdBu')\n",
    "    plt.show(block=True)  "
   ]
  },
  {
   "cell_type": "code",
   "execution_count": 102,
   "id": "575e8646-6311-43aa-a764-40433d700cc6",
   "metadata": {},
   "outputs": [],
   "source": [
    "# kategorik değişken özeltleme fonk\n",
    "def cat_summary(dataframe, col_name, plot=False):\n",
    "    print(pd.DataFrame({col_name: dataframe[col_name].value_counts(),\n",
    "                        \"Ratio\": 100 * dataframe[col_name].value_counts() / len(dataframe)}))\n",
    "    print(\"##########################################\")\n",
    "    if plot:\n",
    "        sns.countplot(x=dataframe[col_name], data=dataframe)\n",
    "        plt.show()"
   ]
  },
  {
   "cell_type": "code",
   "execution_count": 103,
   "id": "7637a2ac-bbb1-4a84-a04c-0a24c67d742c",
   "metadata": {},
   "outputs": [],
   "source": [
    "# sayıal değişkenleri özetleme fonk\n",
    "def num_summary(dataframe, numerical_col, plot=False):\n",
    "    quantiles = [0.05, 0.10, 0.20, 0.30, 0.40, 0.50, 0.60, 0.70, 0.80, 0.90, 0.95, 0.99]\n",
    "    print(dataframe[numerical_col].describe(quantiles).T)\n",
    "\n",
    "    if plot:\n",
    "        dataframe[numerical_col].hist(bins=20)\n",
    "        plt.xlabel(numerical_col)\n",
    "        plt.title(numerical_col)\n",
    "        plt.show()"
   ]
  },
  {
   "cell_type": "code",
   "execution_count": 8,
   "id": "3f704c3a-4cbb-4059-9033-9e81e852efe6",
   "metadata": {},
   "outputs": [],
   "source": [
    "# targete göre kategorik  değilken analizi\n",
    "def target_summary_with_cat(dataframe, target, categorical_col):\n",
    "    print(categorical_col)\n",
    "    print(pd.DataFrame({\"TARGET_MEAN\": dataframe.groupby(categorical_col)[target].mean(),\n",
    "                        \"Count\": dataframe[categorical_col].value_counts(),\n",
    "                        \"Ratio\": 100 * dataframe[categorical_col].value_counts() / len(dataframe)}), end=\"\\n\\n\\n\")"
   ]
  },
  {
   "cell_type": "code",
   "execution_count": 104,
   "id": "226b3f63-f81a-4799-9c2a-f66e2ce356b1",
   "metadata": {},
   "outputs": [],
   "source": [
    "# targete göre numerical  değilken analizi\n",
    "def target_summary_with_num(dataframe, target, numerical_col):\n",
    "    print(dataframe.groupby(target).agg({numerical_col: \"mean\"}), end=\"\\n\\n\\n\")"
   ]
  },
  {
   "cell_type": "code",
   "execution_count": 10,
   "id": "8dccdc4a-c299-4eab-abc4-63f610036685",
   "metadata": {},
   "outputs": [],
   "source": [
    "#low_limit, up_limit belirledik\n",
    "def outlier_thresholds(dataframe, col_name, q1=0.05, q3=0.95):\n",
    "    quartile1 = dataframe[col_name].quantile(q1)\n",
    "    quartile3 = dataframe[col_name].quantile(q3)\n",
    "    interquantile_range = quartile3 - quartile1\n",
    "    up_limit = quartile3 + 1.5 * interquantile_range\n",
    "    low_limit = quartile1 - 1.5 * interquantile_range\n",
    "    return low_limit, up_limit\n",
    "\n",
    "# aaykırı değer var mı yokmu ona baktık\n",
    "def check_outlier(dataframe, col_name):\n",
    "    low_limit, up_limit = outlier_thresholds(dataframe, col_name)\n",
    "    if dataframe[(dataframe[col_name] > up_limit) | (dataframe[col_name] < low_limit)].any(axis=None):\n",
    "        return True\n",
    "    else:\n",
    "        return False\n",
    "\n",
    "    \n",
    "#  baskılama, aykıryı eşik değer ile doldur\n",
    "def replace_with_thresholds(dataframe, variable, q1=0.05, q3=0.95):\n",
    "    low_limit, up_limit = outlier_thresholds(dataframe, variable, q1=0.05, q3=0.95)\n",
    "    dataframe.loc[(dataframe[variable] < low_limit), variable] = low_limit\n",
    "    dataframe.loc[(dataframe[variable] > up_limit), variable] = up_limit"
   ]
  },
  {
   "cell_type": "code",
   "execution_count": 105,
   "id": "22ec8ce9-578c-4f0a-8edc-5a75fbfc4df4",
   "metadata": {},
   "outputs": [],
   "source": [
    "#  drop_first=False : true yaptığımda iki değişkenli kategorik değiikenler labal encoder  a sokacak\n",
    "# kısacası  drop_first=drop_first dummuy tuzağından kurutlmuş olacağım \n",
    "def one_hot_encoder(dataframe, categorical_cols, drop_first=False):\n",
    "    dataframe = pd.get_dummies(dataframe, columns=categorical_cols, drop_first=drop_first)\n",
    "    return dataframe"
   ]
  },
  {
   "cell_type": "code",
   "execution_count": 147,
   "id": "5a51bf9f-af11-40c3-9b00-56933df43db0",
   "metadata": {},
   "outputs": [],
   "source": [
    "# hızlı bir şekilde tüm modelleri tek tek sorabildim.\n",
    "def base_models(X, y, scoring=\"roc_auc\"):\n",
    "    print(\"Base Models....\")\n",
    "    classifiers = [('LR', LogisticRegression()),\n",
    "                   ('KNN', KNeighborsClassifier()),\n",
    "                   (\"SVC\", SVC()),\n",
    "                   (\"CART\", DecisionTreeClassifier()),\n",
    "                   (\"RF\", RandomForestClassifier()),\n",
    "                   ('Adaboost', AdaBoostClassifier()),\n",
    "                   ('GBM', GradientBoostingClassifier()),\n",
    "                   ('XGBoost', XGBClassifier(use_label_encoder=False, eval_metric='logloss')),\n",
    "                   ('LightGBM', LGBMClassifier()),\n",
    "                   # ('CatBoost', CatBoostClassifier(verbose=False))\n",
    "                   ]\n",
    "\n",
    "    for name, classifier in classifiers:\n",
    "        cv_results = cross_validate(classifier, X, y, cv=3, scoring=scoring)\n",
    "        print(f\"{scoring}: {round(cv_results['test_score'].mean(), 4)} ({name}) \")"
   ]
  },
  {
   "cell_type": "markdown",
   "id": "9202a681-2744-407e-bd26-ee24d920f277",
   "metadata": {},
   "source": [
    "**İŞLEMLERE BAŞLAYALIM**"
   ]
  },
  {
   "cell_type": "code",
   "execution_count": 107,
   "id": "fb6a92db-1e79-4d90-aea1-eac5d84b7b85",
   "metadata": {},
   "outputs": [],
   "source": [
    "df1 = pd.read_csv('Veriseti1.txt', sep=',')"
   ]
  },
  {
   "cell_type": "code",
   "execution_count": 108,
   "id": "2356b566-1778-488c-b58b-b7b55f809e21",
   "metadata": {},
   "outputs": [],
   "source": [
    "df1[\"Door\"] = 0"
   ]
  },
  {
   "cell_type": "code",
   "execution_count": 12,
   "id": "fb7ae8ee-13a7-4e38-a7bc-a4580602aaca",
   "metadata": {},
   "outputs": [],
   "source": [
    "#df1"
   ]
  },
  {
   "cell_type": "code",
   "execution_count": 109,
   "id": "b7955261-3191-4f9d-846a-b2a4eb590da3",
   "metadata": {},
   "outputs": [],
   "source": [
    "df2 = pd.read_csv('Veriseti2.txt', sep=',')"
   ]
  },
  {
   "cell_type": "code",
   "execution_count": 110,
   "id": "ec07a7d4-ff68-4857-a012-00585aff2ffb",
   "metadata": {},
   "outputs": [],
   "source": [
    "df2[\"Door\"] = 0"
   ]
  },
  {
   "cell_type": "code",
   "execution_count": 16,
   "id": "41de30c5-ebea-4aa7-ba5e-f81f85f98868",
   "metadata": {},
   "outputs": [],
   "source": [
    "#df2"
   ]
  },
  {
   "cell_type": "code",
   "execution_count": 111,
   "id": "08c9501d-848a-4901-b69f-90bbbdbaed4a",
   "metadata": {},
   "outputs": [],
   "source": [
    "df3 = pd.read_csv('Veriseti3.txt', sep=',')"
   ]
  },
  {
   "cell_type": "code",
   "execution_count": 112,
   "id": "c6a86681-9bd4-49ee-8267-f1540ec18503",
   "metadata": {},
   "outputs": [],
   "source": [
    "df3[\"Door\"] = 1"
   ]
  },
  {
   "cell_type": "code",
   "execution_count": 20,
   "id": "950e7e75-d2b0-43cb-bd07-7c2e4178b3d6",
   "metadata": {},
   "outputs": [],
   "source": [
    "#df3"
   ]
  },
  {
   "cell_type": "code",
   "execution_count": 113,
   "id": "a38c4f73-1cb5-4cff-8f71-e5d5ec6e6107",
   "metadata": {},
   "outputs": [],
   "source": [
    "df= pd.concat([df1,df2,df3],axis=0,ignore_index=True)#axis=0  alt alta birleştirir"
   ]
  },
  {
   "cell_type": "code",
   "execution_count": 114,
   "id": "9c1ba281-3452-45da-929b-a9951828640f",
   "metadata": {},
   "outputs": [],
   "source": [
    "#df"
   ]
  },
  {
   "cell_type": "code",
   "execution_count": 115,
   "id": "354ee3b0-f2a4-4b84-9273-29356b5067db",
   "metadata": {},
   "outputs": [
    {
     "data": {
      "text/html": [
       "<div>\n",
       "<style scoped>\n",
       "    .dataframe tbody tr th:only-of-type {\n",
       "        vertical-align: middle;\n",
       "    }\n",
       "\n",
       "    .dataframe tbody tr th {\n",
       "        vertical-align: top;\n",
       "    }\n",
       "\n",
       "    .dataframe thead th {\n",
       "        text-align: right;\n",
       "    }\n",
       "</style>\n",
       "<table border=\"1\" class=\"dataframe\">\n",
       "  <thead>\n",
       "    <tr style=\"text-align: right;\">\n",
       "      <th></th>\n",
       "      <th>date</th>\n",
       "      <th>Temperature</th>\n",
       "      <th>Humidity</th>\n",
       "      <th>Light</th>\n",
       "      <th>CO2</th>\n",
       "      <th>HumidityRatio</th>\n",
       "      <th>Occupancy</th>\n",
       "      <th>Door</th>\n",
       "    </tr>\n",
       "  </thead>\n",
       "  <tbody>\n",
       "    <tr>\n",
       "      <th>0</th>\n",
       "      <td>2015-02-04 17:51:00</td>\n",
       "      <td>23.180</td>\n",
       "      <td>27.272</td>\n",
       "      <td>426.000</td>\n",
       "      <td>721.250</td>\n",
       "      <td>0.005</td>\n",
       "      <td>1</td>\n",
       "      <td>0</td>\n",
       "    </tr>\n",
       "    <tr>\n",
       "      <th>1</th>\n",
       "      <td>2015-02-04 17:51:59</td>\n",
       "      <td>23.150</td>\n",
       "      <td>27.267</td>\n",
       "      <td>429.500</td>\n",
       "      <td>714.000</td>\n",
       "      <td>0.005</td>\n",
       "      <td>1</td>\n",
       "      <td>0</td>\n",
       "    </tr>\n",
       "    <tr>\n",
       "      <th>2</th>\n",
       "      <td>2015-02-04 17:53:00</td>\n",
       "      <td>23.150</td>\n",
       "      <td>27.245</td>\n",
       "      <td>426.000</td>\n",
       "      <td>713.500</td>\n",
       "      <td>0.005</td>\n",
       "      <td>1</td>\n",
       "      <td>0</td>\n",
       "    </tr>\n",
       "    <tr>\n",
       "      <th>3</th>\n",
       "      <td>2015-02-04 17:54:00</td>\n",
       "      <td>23.150</td>\n",
       "      <td>27.200</td>\n",
       "      <td>426.000</td>\n",
       "      <td>708.250</td>\n",
       "      <td>0.005</td>\n",
       "      <td>1</td>\n",
       "      <td>0</td>\n",
       "    </tr>\n",
       "    <tr>\n",
       "      <th>4</th>\n",
       "      <td>2015-02-04 17:55:00</td>\n",
       "      <td>23.100</td>\n",
       "      <td>27.200</td>\n",
       "      <td>426.000</td>\n",
       "      <td>704.500</td>\n",
       "      <td>0.005</td>\n",
       "      <td>1</td>\n",
       "      <td>0</td>\n",
       "    </tr>\n",
       "  </tbody>\n",
       "</table>\n",
       "</div>"
      ],
      "text/plain": [
       "                  date  Temperature  Humidity   Light     CO2  HumidityRatio  Occupancy  Door\n",
       "0  2015-02-04 17:51:00       23.180    27.272 426.000 721.250          0.005          1     0\n",
       "1  2015-02-04 17:51:59       23.150    27.267 429.500 714.000          0.005          1     0\n",
       "2  2015-02-04 17:53:00       23.150    27.245 426.000 713.500          0.005          1     0\n",
       "3  2015-02-04 17:54:00       23.150    27.200 426.000 708.250          0.005          1     0\n",
       "4  2015-02-04 17:55:00       23.100    27.200 426.000 704.500          0.005          1     0"
      ]
     },
     "execution_count": 115,
     "metadata": {},
     "output_type": "execute_result"
    }
   ],
   "source": [
    "df.head()"
   ]
  },
  {
   "cell_type": "markdown",
   "id": "8faadfba-a6d6-4634-a873-03e84f4e1d34",
   "metadata": {},
   "source": [
    "###  Exploratory Data Analysis"
   ]
  },
  {
   "cell_type": "markdown",
   "id": "28b4730f-b6b8-45a8-ad3a-ae21874986ce",
   "metadata": {},
   "source": [
    "Veri setini yükledik! Veri setine hızlıca göz atmak için daha önce yazdığım fonksiyonu kullanacağım. "
   ]
  },
  {
   "cell_type": "code",
   "execution_count": 116,
   "id": "ba954183-99ec-42cd-99e8-841303a21f71",
   "metadata": {},
   "outputs": [
    {
     "name": "stdout",
     "output_type": "stream",
     "text": [
      "########################## Shape ###########################\n",
      "Observations -------> 20560\n",
      "Features     -------> 8\n",
      "########################## Types ###########################\n",
      "date              object\n",
      "Temperature      float64\n",
      "Humidity         float64\n",
      "Light            float64\n",
      "CO2              float64\n",
      "HumidityRatio    float64\n",
      "Occupancy          int64\n",
      "Door               int64\n",
      "dtype: object\n",
      "########################### İnfo ###########################\n",
      "<class 'pandas.core.frame.DataFrame'>\n",
      "RangeIndex: 20560 entries, 0 to 20559\n",
      "Data columns (total 8 columns):\n",
      " #   Column         Non-Null Count  Dtype  \n",
      "---  ------         --------------  -----  \n",
      " 0   date           20560 non-null  object \n",
      " 1   Temperature    20560 non-null  float64\n",
      " 2   Humidity       20560 non-null  float64\n",
      " 3   Light          20560 non-null  float64\n",
      " 4   CO2            20560 non-null  float64\n",
      " 5   HumidityRatio  20560 non-null  float64\n",
      " 6   Occupancy      20560 non-null  int64  \n",
      " 7   Door           20560 non-null  int64  \n",
      "dtypes: float64(5), int64(2), object(1)\n",
      "memory usage: 1.3+ MB\n",
      "None\n",
      "######################### Describe #########################\n",
      "       Temperature  Humidity     Light       CO2  HumidityRatio  Occupancy      Door\n",
      "count    20560.000 20560.000 20560.000 20560.000      20560.000  20560.000 20560.000\n",
      "mean        20.906    27.656   130.757   690.553          0.004      0.231     0.474\n",
      "std          1.055     4.982   210.431   311.201          0.001      0.422     0.499\n",
      "min         19.000    16.745     0.000   412.750          0.003      0.000     0.000\n",
      "25%         20.200    24.500     0.000   460.000          0.004      0.000     0.000\n",
      "50%         20.700    27.290     0.000   565.417          0.004      0.000     0.000\n",
      "75%         21.525    31.290   301.000   804.667          0.005      0.000     1.000\n",
      "max         24.408    39.500  1697.250  2076.500          0.006      1.000     1.000\n",
      "########################### Head ###########################\n",
      "                  date  Temperature  Humidity   Light     CO2  HumidityRatio  Occupancy  Door\n",
      "0  2015-02-04 17:51:00       23.180    27.272 426.000 721.250          0.005          1     0\n",
      "1  2015-02-04 17:51:59       23.150    27.267 429.500 714.000          0.005          1     0\n",
      "2  2015-02-04 17:53:00       23.150    27.245 426.000 713.500          0.005          1     0\n",
      "3  2015-02-04 17:54:00       23.150    27.200 426.000 708.250          0.005          1     0\n",
      "4  2015-02-04 17:55:00       23.100    27.200 426.000 704.500          0.005          1     0\n",
      "########################### Tail ###########################\n",
      "                      date  Temperature  Humidity   Light      CO2  HumidityRatio  Occupancy  Door\n",
      "20555  2015-02-18 09:15:00       20.815    27.718 429.750 1505.250          0.004          1     1\n",
      "20556  2015-02-18 09:16:00       20.865    27.745 423.500 1514.500          0.004          1     1\n",
      "20557  2015-02-18 09:16:59       20.890    27.745 423.500 1521.500          0.004          1     1\n",
      "20558  2015-02-18 09:17:59       20.890    28.023 418.750 1632.000          0.004          1     1\n",
      "20559  2015-02-18 09:19:00       21.000    28.100 409.000 1864.000          0.004          1     1\n",
      "############################ NA ############################\n",
      "date             0\n",
      "Temperature      0\n",
      "Humidity         0\n",
      "Light            0\n",
      "CO2              0\n",
      "HumidityRatio    0\n",
      "Occupancy        0\n",
      "Door             0\n",
      "dtype: int64\n",
      "######################## Quantiles #########################\n",
      "                0.000   0.050   0.500   0.600   0.800    0.950    0.990    1.000\n",
      "Temperature    19.000  19.390  20.700  20.890  21.790   23.000   23.945   24.408\n",
      "Humidity       16.745  19.050  27.290  28.918  32.290   35.790   38.290   39.500\n",
      "Light           0.000   0.000   0.000   0.000 429.000  502.000  744.000 1697.250\n",
      "CO2           412.750 433.500 565.417 633.500 882.600 1419.762 1719.427 2076.500\n",
      "HumidityRatio   0.003   0.003   0.004   0.004   0.005    0.005    0.006    0.006\n",
      "Occupancy       0.000   0.000   0.000   0.000   1.000    1.000    1.000    1.000\n",
      "Door            0.000   0.000   0.000   1.000   1.000    1.000    1.000    1.000\n"
     ]
    }
   ],
   "source": [
    "check_df(df)"
   ]
  },
  {
   "cell_type": "code",
   "execution_count": 117,
   "id": "e4cb66b6-e579-4be3-bec3-07753f187f51",
   "metadata": {},
   "outputs": [
    {
     "name": "stdout",
     "output_type": "stream",
     "text": [
      "Observations: 20560\n",
      "Variables: 8\n",
      "cat_cols: 2\n",
      "num_cols: 5\n",
      "cat_but_car: 1\n",
      "num_but_cat: 2\n"
     ]
    }
   ],
   "source": [
    "# Değişken türlerinin ayrıştırılması\n",
    "cat_cols, num_cols, cat_but_car = grab_col_names(df,cat_th = 10, car_th = 20)"
   ]
  },
  {
   "cell_type": "code",
   "execution_count": 119,
   "id": "c6f117f4-09f8-487f-917d-488d2635ad21",
   "metadata": {},
   "outputs": [
    {
     "data": {
      "text/plain": [
       "['Occupancy', 'Door']"
      ]
     },
     "execution_count": 119,
     "metadata": {},
     "output_type": "execute_result"
    }
   ],
   "source": [
    "cat_cols"
   ]
  },
  {
   "cell_type": "code",
   "execution_count": 120,
   "id": "10aa3d12-abd9-4ea0-b8d4-495c6772706f",
   "metadata": {},
   "outputs": [
    {
     "data": {
      "text/plain": [
       "['Temperature', 'Humidity', 'Light', 'CO2', 'HumidityRatio']"
      ]
     },
     "execution_count": 120,
     "metadata": {},
     "output_type": "execute_result"
    }
   ],
   "source": [
    "num_cols"
   ]
  },
  {
   "cell_type": "code",
   "execution_count": 121,
   "id": "dcb03c16-afc4-47ae-b0c0-b5623926b85e",
   "metadata": {},
   "outputs": [
    {
     "data": {
      "text/plain": [
       "['date']"
      ]
     },
     "execution_count": 121,
     "metadata": {},
     "output_type": "execute_result"
    }
   ],
   "source": [
    "cat_but_car"
   ]
  },
  {
   "cell_type": "code",
   "execution_count": 122,
   "id": "95177d9a-874e-4a89-b446-febf635601d5",
   "metadata": {},
   "outputs": [
    {
     "data": {
      "text/html": [
       "<div>\n",
       "<style scoped>\n",
       "    .dataframe tbody tr th:only-of-type {\n",
       "        vertical-align: middle;\n",
       "    }\n",
       "\n",
       "    .dataframe tbody tr th {\n",
       "        vertical-align: top;\n",
       "    }\n",
       "\n",
       "    .dataframe thead th {\n",
       "        text-align: right;\n",
       "    }\n",
       "</style>\n",
       "<table border=\"1\" class=\"dataframe\">\n",
       "  <thead>\n",
       "    <tr style=\"text-align: right;\">\n",
       "      <th></th>\n",
       "      <th>count</th>\n",
       "      <th>mean</th>\n",
       "      <th>std</th>\n",
       "      <th>min</th>\n",
       "      <th>25%</th>\n",
       "      <th>50%</th>\n",
       "      <th>75%</th>\n",
       "      <th>max</th>\n",
       "    </tr>\n",
       "  </thead>\n",
       "  <tbody>\n",
       "    <tr>\n",
       "      <th>Temperature</th>\n",
       "      <td>20560.000</td>\n",
       "      <td>20.906</td>\n",
       "      <td>1.055</td>\n",
       "      <td>19.000</td>\n",
       "      <td>20.200</td>\n",
       "      <td>20.700</td>\n",
       "      <td>21.525</td>\n",
       "      <td>24.408</td>\n",
       "    </tr>\n",
       "    <tr>\n",
       "      <th>Humidity</th>\n",
       "      <td>20560.000</td>\n",
       "      <td>27.656</td>\n",
       "      <td>4.982</td>\n",
       "      <td>16.745</td>\n",
       "      <td>24.500</td>\n",
       "      <td>27.290</td>\n",
       "      <td>31.290</td>\n",
       "      <td>39.500</td>\n",
       "    </tr>\n",
       "    <tr>\n",
       "      <th>Light</th>\n",
       "      <td>20560.000</td>\n",
       "      <td>130.757</td>\n",
       "      <td>210.431</td>\n",
       "      <td>0.000</td>\n",
       "      <td>0.000</td>\n",
       "      <td>0.000</td>\n",
       "      <td>301.000</td>\n",
       "      <td>1697.250</td>\n",
       "    </tr>\n",
       "    <tr>\n",
       "      <th>CO2</th>\n",
       "      <td>20560.000</td>\n",
       "      <td>690.553</td>\n",
       "      <td>311.201</td>\n",
       "      <td>412.750</td>\n",
       "      <td>460.000</td>\n",
       "      <td>565.417</td>\n",
       "      <td>804.667</td>\n",
       "      <td>2076.500</td>\n",
       "    </tr>\n",
       "    <tr>\n",
       "      <th>HumidityRatio</th>\n",
       "      <td>20560.000</td>\n",
       "      <td>0.004</td>\n",
       "      <td>0.001</td>\n",
       "      <td>0.003</td>\n",
       "      <td>0.004</td>\n",
       "      <td>0.004</td>\n",
       "      <td>0.005</td>\n",
       "      <td>0.006</td>\n",
       "    </tr>\n",
       "  </tbody>\n",
       "</table>\n",
       "</div>"
      ],
      "text/plain": [
       "                  count    mean     std     min     25%     50%     75%      max\n",
       "Temperature   20560.000  20.906   1.055  19.000  20.200  20.700  21.525   24.408\n",
       "Humidity      20560.000  27.656   4.982  16.745  24.500  27.290  31.290   39.500\n",
       "Light         20560.000 130.757 210.431   0.000   0.000   0.000 301.000 1697.250\n",
       "CO2           20560.000 690.553 311.201 412.750 460.000 565.417 804.667 2076.500\n",
       "HumidityRatio 20560.000   0.004   0.001   0.003   0.004   0.004   0.005    0.006"
      ]
     },
     "execution_count": 122,
     "metadata": {},
     "output_type": "execute_result"
    }
   ],
   "source": [
    "# Sayısal değişkenlerin incelenmesi\n",
    "df[num_cols].describe().T"
   ]
  },
  {
   "cell_type": "code",
   "execution_count": 123,
   "id": "91d1830b-b11d-4d46-b9c0-59ebb477085e",
   "metadata": {},
   "outputs": [
    {
     "data": {
      "text/html": [
       "<div>\n",
       "<style scoped>\n",
       "    .dataframe tbody tr th:only-of-type {\n",
       "        vertical-align: middle;\n",
       "    }\n",
       "\n",
       "    .dataframe tbody tr th {\n",
       "        vertical-align: top;\n",
       "    }\n",
       "\n",
       "    .dataframe thead th {\n",
       "        text-align: right;\n",
       "    }\n",
       "</style>\n",
       "<table border=\"1\" class=\"dataframe\">\n",
       "  <thead>\n",
       "    <tr style=\"text-align: right;\">\n",
       "      <th></th>\n",
       "      <th>Unique Count</th>\n",
       "    </tr>\n",
       "  </thead>\n",
       "  <tbody>\n",
       "    <tr>\n",
       "      <th>date</th>\n",
       "      <td>20560</td>\n",
       "    </tr>\n",
       "    <tr>\n",
       "      <th>HumidityRatio</th>\n",
       "      <td>9686</td>\n",
       "    </tr>\n",
       "    <tr>\n",
       "      <th>CO2</th>\n",
       "      <td>5167</td>\n",
       "    </tr>\n",
       "    <tr>\n",
       "      <th>Humidity</th>\n",
       "      <td>2480</td>\n",
       "    </tr>\n",
       "    <tr>\n",
       "      <th>Light</th>\n",
       "      <td>1905</td>\n",
       "    </tr>\n",
       "    <tr>\n",
       "      <th>Temperature</th>\n",
       "      <td>485</td>\n",
       "    </tr>\n",
       "    <tr>\n",
       "      <th>Occupancy</th>\n",
       "      <td>2</td>\n",
       "    </tr>\n",
       "    <tr>\n",
       "      <th>Door</th>\n",
       "      <td>2</td>\n",
       "    </tr>\n",
       "  </tbody>\n",
       "</table>\n",
       "</div>"
      ],
      "text/plain": [
       "               Unique Count\n",
       "date                  20560\n",
       "HumidityRatio          9686\n",
       "CO2                    5167\n",
       "Humidity               2480\n",
       "Light                  1905\n",
       "Temperature             485\n",
       "Occupancy                 2\n",
       "Door                      2"
      ]
     },
     "execution_count": 123,
     "metadata": {},
     "output_type": "execute_result"
    }
   ],
   "source": [
    "check_classes(df)"
   ]
  },
  {
   "cell_type": "code",
   "execution_count": 124,
   "id": "df36254a-b94b-4a07-a680-c2b9c33dac0e",
   "metadata": {},
   "outputs": [
    {
     "data": {
      "image/png": "[encoded data removed]",
      "text/plain": [
       "<Figure size 720x576 with 2 Axes>"
      ]
     },
     "metadata": {},
     "output_type": "display_data"
    }
   ],
   "source": [
    "# Sayısal değişkenkerin birbirleri ile korelasyonu\n",
    "correlation_matrix(df,num_cols)"
   ]
  },
  {
   "cell_type": "code",
   "execution_count": 125,
   "id": "5dfeb132-c869-49d1-82d9-3189f5cfd570",
   "metadata": {},
   "outputs": [
    {
     "name": "stdout",
     "output_type": "stream",
     "text": [
      "   Occupancy  Ratio\n",
      "0      15810 76.897\n",
      "1       4750 23.103\n",
      "##########################################\n"
     ]
    },
    {
     "data": {
      "image/png": "[encoded data removed]",
      "text/plain": [
       "<Figure size 432x288 with 1 Axes>"
      ]
     },
     "metadata": {},
     "output_type": "display_data"
    },
    {
     "name": "stdout",
     "output_type": "stream",
     "text": [
      "    Door  Ratio\n",
      "0  10808 52.568\n",
      "1   9752 47.432\n",
      "##########################################\n"
     ]
    },
    {
     "data": {
      "image/png": "[encoded data removed]",
      "text/plain": [
       "<Figure size 432x288 with 1 Axes>"
      ]
     },
     "metadata": {},
     "output_type": "display_data"
    }
   ],
   "source": [
    "for col in cat_cols:\n",
    "    cat_summary(df, col, plot=True)"
   ]
  },
  {
   "cell_type": "code",
   "execution_count": 126,
   "id": "f00559b3-1f33-4649-a1ae-67e9a843848e",
   "metadata": {},
   "outputs": [
    {
     "name": "stdout",
     "output_type": "stream",
     "text": [
      "count   20560.000\n",
      "mean       20.906\n",
      "std         1.055\n",
      "min        19.000\n",
      "5%         19.390\n",
      "10%        19.650\n",
      "20%        20.000\n",
      "30%        20.290\n",
      "40%        20.500\n",
      "50%        20.700\n",
      "60%        20.890\n",
      "70%        21.290\n",
      "80%        21.790\n",
      "90%        22.315\n",
      "95%        23.000\n",
      "99%        23.945\n",
      "max        24.408\n",
      "Name: Temperature, dtype: float64\n"
     ]
    },
    {
     "data": {
      "image/png": "[encoded data removed]",
      "text/plain": [
       "<Figure size 432x288 with 1 Axes>"
      ]
     },
     "metadata": {},
     "output_type": "display_data"
    },
    {
     "name": "stdout",
     "output_type": "stream",
     "text": [
      "count   20560.000\n",
      "mean       27.656\n",
      "std         4.982\n",
      "min        16.745\n",
      "5%         19.050\n",
      "10%        20.247\n",
      "20%        23.445\n",
      "30%        25.100\n",
      "40%        26.290\n",
      "50%        27.290\n",
      "60%        28.918\n",
      "70%        30.500\n",
      "80%        32.290\n",
      "90%        34.400\n",
      "95%        35.790\n",
      "99%        38.290\n",
      "max        39.500\n",
      "Name: Humidity, dtype: float64\n"
     ]
    },
    {
     "data": {
      "image/png": "[encoded data removed]",
      "text/plain": [
       "<Figure size 432x288 with 1 Axes>"
      ]
     },
     "metadata": {},
     "output_type": "display_data"
    },
    {
     "name": "stdout",
     "output_type": "stream",
     "text": [
      "count   20560.000\n",
      "mean      130.757\n",
      "std       210.431\n",
      "min         0.000\n",
      "5%          0.000\n",
      "10%         0.000\n",
      "20%         0.000\n",
      "30%         0.000\n",
      "40%         0.000\n",
      "50%         0.000\n",
      "60%         0.000\n",
      "70%        75.825\n",
      "80%       429.000\n",
      "90%       459.000\n",
      "95%       502.000\n",
      "99%       744.000\n",
      "max      1697.250\n",
      "Name: Light, dtype: float64\n"
     ]
    },
    {
     "data": {
      "image/png": "[encoded data removed]",
      "text/plain": [
       "<Figure size 432x288 with 1 Axes>"
      ]
     },
     "metadata": {},
     "output_type": "display_data"
    },
    {
     "name": "stdout",
     "output_type": "stream",
     "text": [
      "count   20560.000\n",
      "mean      690.553\n",
      "std       311.201\n",
      "min       412.750\n",
      "5%        433.500\n",
      "10%       438.000\n",
      "20%       450.000\n",
      "30%       476.957\n",
      "40%       514.500\n",
      "50%       565.417\n",
      "60%       633.500\n",
      "70%       735.500\n",
      "80%       882.600\n",
      "90%      1152.000\n",
      "95%      1419.762\n",
      "99%      1719.427\n",
      "max      2076.500\n",
      "Name: CO2, dtype: float64\n"
     ]
    },
    {
     "data": {
      "image/png": "[encoded data removed]",
      "text/plain": [
       "<Figure size 432x288 with 1 Axes>"
      ]
     },
     "metadata": {},
     "output_type": "display_data"
    },
    {
     "name": "stdout",
     "output_type": "stream",
     "text": [
      "count   20560.000\n",
      "mean        0.004\n",
      "std         0.001\n",
      "min         0.003\n",
      "5%          0.003\n",
      "10%         0.003\n",
      "20%         0.004\n",
      "30%         0.004\n",
      "40%         0.004\n",
      "50%         0.004\n",
      "60%         0.004\n",
      "70%         0.005\n",
      "80%         0.005\n",
      "90%         0.005\n",
      "95%         0.005\n",
      "99%         0.006\n",
      "max         0.006\n",
      "Name: HumidityRatio, dtype: float64\n"
     ]
    },
    {
     "data": {
      "image/png": "[encoded data removed]",
      "text/plain": [
       "<Figure size 432x288 with 1 Axes>"
      ]
     },
     "metadata": {},
     "output_type": "display_data"
    }
   ],
   "source": [
    "for col in num_cols:\n",
    "    num_summary(df, col, plot=True)"
   ]
  },
  {
   "cell_type": "markdown",
   "id": "4d8bb0b8-f319-4452-8fc8-a030e682eccd",
   "metadata": {},
   "source": [
    "##### Kategorik değişkenler ile hedef değişken incelemesini yapınız"
   ]
  },
  {
   "cell_type": "code",
   "execution_count": 128,
   "id": "da3852e5-f17a-4f5f-91fd-1b375fe14990",
   "metadata": {},
   "outputs": [
    {
     "name": "stdout",
     "output_type": "stream",
     "text": [
      "Occupancy\n",
      "   TARGET_MEAN  Count  Ratio\n",
      "0        0.000  15810 76.897\n",
      "1        1.000   4750 23.103\n",
      "\n",
      "\n",
      "Door\n",
      "   TARGET_MEAN  Count  Ratio\n",
      "0        0.250  10808 52.568\n",
      "1        0.210   9752 47.432\n",
      "\n",
      "\n"
     ]
    }
   ],
   "source": [
    "for col in cat_cols:\n",
    "    target_summary_with_cat(df, \"Occupancy\", col)"
   ]
  },
  {
   "cell_type": "markdown",
   "id": "aa28278e-b6a0-408e-a079-7945efac74e4",
   "metadata": {},
   "source": [
    "##### Numerik değişkenlerin hedef değişkene göre analizi"
   ]
  },
  {
   "cell_type": "code",
   "execution_count": 129,
   "id": "3e46c289-b3d8-448f-a13d-825a00217e80",
   "metadata": {},
   "outputs": [
    {
     "name": "stdout",
     "output_type": "stream",
     "text": [
      "           Temperature\n",
      "Occupancy             \n",
      "0               20.585\n",
      "1               21.976\n",
      "\n",
      "\n",
      "           Humidity\n",
      "Occupancy          \n",
      "0            27.530\n",
      "1            28.076\n",
      "\n",
      "\n",
      "            Light\n",
      "Occupancy        \n",
      "0          25.238\n",
      "1         481.967\n",
      "\n",
      "\n",
      "              CO2\n",
      "Occupancy        \n",
      "0         604.997\n",
      "1         975.322\n",
      "\n",
      "\n",
      "           HumidityRatio\n",
      "Occupancy               \n",
      "0                  0.004\n",
      "1                  0.005\n",
      "\n",
      "\n"
     ]
    }
   ],
   "source": [
    "for col in num_cols:\n",
    "    target_summary_with_num(df, \"Occupancy\", col)"
   ]
  },
  {
   "cell_type": "markdown",
   "id": "8a3ba7b6-3a5c-4e95-9e49-06eaf10ee270",
   "metadata": {},
   "source": [
    "### Data Preprocessing & Feature Engineering"
   ]
  },
  {
   "cell_type": "code",
   "execution_count": 130,
   "id": "10ea761a-219b-49ba-915d-ae1e06040506",
   "metadata": {},
   "outputs": [
    {
     "data": {
      "text/html": [
       "<div>\n",
       "<style scoped>\n",
       "    .dataframe tbody tr th:only-of-type {\n",
       "        vertical-align: middle;\n",
       "    }\n",
       "\n",
       "    .dataframe tbody tr th {\n",
       "        vertical-align: top;\n",
       "    }\n",
       "\n",
       "    .dataframe thead th {\n",
       "        text-align: right;\n",
       "    }\n",
       "</style>\n",
       "<table border=\"1\" class=\"dataframe\">\n",
       "  <thead>\n",
       "    <tr style=\"text-align: right;\">\n",
       "      <th></th>\n",
       "      <th>date</th>\n",
       "      <th>Temperature</th>\n",
       "      <th>Humidity</th>\n",
       "      <th>Light</th>\n",
       "      <th>CO2</th>\n",
       "      <th>HumidityRatio</th>\n",
       "      <th>Occupancy</th>\n",
       "      <th>Door</th>\n",
       "    </tr>\n",
       "  </thead>\n",
       "  <tbody>\n",
       "    <tr>\n",
       "      <th>0</th>\n",
       "      <td>2015-02-04 17:51:00</td>\n",
       "      <td>23.180</td>\n",
       "      <td>27.272</td>\n",
       "      <td>426.000</td>\n",
       "      <td>721.250</td>\n",
       "      <td>0.005</td>\n",
       "      <td>1</td>\n",
       "      <td>0</td>\n",
       "    </tr>\n",
       "    <tr>\n",
       "      <th>1</th>\n",
       "      <td>2015-02-04 17:51:59</td>\n",
       "      <td>23.150</td>\n",
       "      <td>27.267</td>\n",
       "      <td>429.500</td>\n",
       "      <td>714.000</td>\n",
       "      <td>0.005</td>\n",
       "      <td>1</td>\n",
       "      <td>0</td>\n",
       "    </tr>\n",
       "    <tr>\n",
       "      <th>2</th>\n",
       "      <td>2015-02-04 17:53:00</td>\n",
       "      <td>23.150</td>\n",
       "      <td>27.245</td>\n",
       "      <td>426.000</td>\n",
       "      <td>713.500</td>\n",
       "      <td>0.005</td>\n",
       "      <td>1</td>\n",
       "      <td>0</td>\n",
       "    </tr>\n",
       "    <tr>\n",
       "      <th>3</th>\n",
       "      <td>2015-02-04 17:54:00</td>\n",
       "      <td>23.150</td>\n",
       "      <td>27.200</td>\n",
       "      <td>426.000</td>\n",
       "      <td>708.250</td>\n",
       "      <td>0.005</td>\n",
       "      <td>1</td>\n",
       "      <td>0</td>\n",
       "    </tr>\n",
       "    <tr>\n",
       "      <th>4</th>\n",
       "      <td>2015-02-04 17:55:00</td>\n",
       "      <td>23.100</td>\n",
       "      <td>27.200</td>\n",
       "      <td>426.000</td>\n",
       "      <td>704.500</td>\n",
       "      <td>0.005</td>\n",
       "      <td>1</td>\n",
       "      <td>0</td>\n",
       "    </tr>\n",
       "  </tbody>\n",
       "</table>\n",
       "</div>"
      ],
      "text/plain": [
       "                  date  Temperature  Humidity   Light     CO2  HumidityRatio  Occupancy  Door\n",
       "0  2015-02-04 17:51:00       23.180    27.272 426.000 721.250          0.005          1     0\n",
       "1  2015-02-04 17:51:59       23.150    27.267 429.500 714.000          0.005          1     0\n",
       "2  2015-02-04 17:53:00       23.150    27.245 426.000 713.500          0.005          1     0\n",
       "3  2015-02-04 17:54:00       23.150    27.200 426.000 708.250          0.005          1     0\n",
       "4  2015-02-04 17:55:00       23.100    27.200 426.000 704.500          0.005          1     0"
      ]
     },
     "execution_count": 130,
     "metadata": {},
     "output_type": "execute_result"
    }
   ],
   "source": [
    "df.head()"
   ]
  },
  {
   "cell_type": "code",
   "execution_count": 131,
   "id": "97548014-aadb-442b-9703-d8bb59a5b878",
   "metadata": {},
   "outputs": [],
   "source": [
    "# dataframe oluştıracağım yeni date lerin nasıl etkileyeceğini görmek için önce kopyalanmış df de bakacağım.\n",
    "dff = pd.concat([df1,df2,df3],axis=0,ignore_index=True)#axis=0  alt alta birleştirir\n",
    "# DATE\n",
    "# date i dönüştüreceğiz ama tabi  onu dönüştürelim\n",
    "dff['date'] = pd.to_datetime(dff[\"date\"], format=\"%Y-%m-%d\")\n",
    "\n",
    "# year : yıl değeri üretmek için\n",
    "dff['year'] = dff['date'].dt.year \n",
    "# bakıldığında date year sadece 2015 o yüzden yıl değişkeniin veri setinde bir etkisi yok\n",
    "\n",
    "# month = ay\n",
    "dff['month'] = dff['date'].dt.month\n",
    "\n",
    "# day name\n",
    "dff['day_name'] = dff['date'].dt.day_name()\n",
    "\n",
    "#saat\n",
    "dff[\"day_hour\"] = dff['date'].dt.hour"
   ]
  },
  {
   "cell_type": "code",
   "execution_count": 132,
   "id": "39acc870-af33-40a7-b740-4d884feaeb39",
   "metadata": {},
   "outputs": [
    {
     "data": {
      "text/html": [
       "<div>\n",
       "<style scoped>\n",
       "    .dataframe tbody tr th:only-of-type {\n",
       "        vertical-align: middle;\n",
       "    }\n",
       "\n",
       "    .dataframe tbody tr th {\n",
       "        vertical-align: top;\n",
       "    }\n",
       "\n",
       "    .dataframe thead th {\n",
       "        text-align: right;\n",
       "    }\n",
       "</style>\n",
       "<table border=\"1\" class=\"dataframe\">\n",
       "  <thead>\n",
       "    <tr style=\"text-align: right;\">\n",
       "      <th></th>\n",
       "      <th>date</th>\n",
       "      <th>Temperature</th>\n",
       "      <th>Humidity</th>\n",
       "      <th>Light</th>\n",
       "      <th>CO2</th>\n",
       "      <th>HumidityRatio</th>\n",
       "      <th>Occupancy</th>\n",
       "      <th>Door</th>\n",
       "      <th>year</th>\n",
       "      <th>month</th>\n",
       "      <th>day_name</th>\n",
       "      <th>day_hour</th>\n",
       "    </tr>\n",
       "  </thead>\n",
       "  <tbody>\n",
       "    <tr>\n",
       "      <th>0</th>\n",
       "      <td>2015-02-04 17:51:00</td>\n",
       "      <td>23.180</td>\n",
       "      <td>27.272</td>\n",
       "      <td>426.000</td>\n",
       "      <td>721.250</td>\n",
       "      <td>0.005</td>\n",
       "      <td>1</td>\n",
       "      <td>0</td>\n",
       "      <td>2015</td>\n",
       "      <td>2</td>\n",
       "      <td>Wednesday</td>\n",
       "      <td>17</td>\n",
       "    </tr>\n",
       "    <tr>\n",
       "      <th>1</th>\n",
       "      <td>2015-02-04 17:51:59</td>\n",
       "      <td>23.150</td>\n",
       "      <td>27.267</td>\n",
       "      <td>429.500</td>\n",
       "      <td>714.000</td>\n",
       "      <td>0.005</td>\n",
       "      <td>1</td>\n",
       "      <td>0</td>\n",
       "      <td>2015</td>\n",
       "      <td>2</td>\n",
       "      <td>Wednesday</td>\n",
       "      <td>17</td>\n",
       "    </tr>\n",
       "    <tr>\n",
       "      <th>2</th>\n",
       "      <td>2015-02-04 17:53:00</td>\n",
       "      <td>23.150</td>\n",
       "      <td>27.245</td>\n",
       "      <td>426.000</td>\n",
       "      <td>713.500</td>\n",
       "      <td>0.005</td>\n",
       "      <td>1</td>\n",
       "      <td>0</td>\n",
       "      <td>2015</td>\n",
       "      <td>2</td>\n",
       "      <td>Wednesday</td>\n",
       "      <td>17</td>\n",
       "    </tr>\n",
       "    <tr>\n",
       "      <th>3</th>\n",
       "      <td>2015-02-04 17:54:00</td>\n",
       "      <td>23.150</td>\n",
       "      <td>27.200</td>\n",
       "      <td>426.000</td>\n",
       "      <td>708.250</td>\n",
       "      <td>0.005</td>\n",
       "      <td>1</td>\n",
       "      <td>0</td>\n",
       "      <td>2015</td>\n",
       "      <td>2</td>\n",
       "      <td>Wednesday</td>\n",
       "      <td>17</td>\n",
       "    </tr>\n",
       "    <tr>\n",
       "      <th>4</th>\n",
       "      <td>2015-02-04 17:55:00</td>\n",
       "      <td>23.100</td>\n",
       "      <td>27.200</td>\n",
       "      <td>426.000</td>\n",
       "      <td>704.500</td>\n",
       "      <td>0.005</td>\n",
       "      <td>1</td>\n",
       "      <td>0</td>\n",
       "      <td>2015</td>\n",
       "      <td>2</td>\n",
       "      <td>Wednesday</td>\n",
       "      <td>17</td>\n",
       "    </tr>\n",
       "  </tbody>\n",
       "</table>\n",
       "</div>"
      ],
      "text/plain": [
       "                 date  Temperature  Humidity   Light     CO2  HumidityRatio  Occupancy  Door  year  month   day_name  day_hour\n",
       "0 2015-02-04 17:51:00       23.180    27.272 426.000 721.250          0.005          1     0  2015      2  Wednesday        17\n",
       "1 2015-02-04 17:51:59       23.150    27.267 429.500 714.000          0.005          1     0  2015      2  Wednesday        17\n",
       "2 2015-02-04 17:53:00       23.150    27.245 426.000 713.500          0.005          1     0  2015      2  Wednesday        17\n",
       "3 2015-02-04 17:54:00       23.150    27.200 426.000 708.250          0.005          1     0  2015      2  Wednesday        17\n",
       "4 2015-02-04 17:55:00       23.100    27.200 426.000 704.500          0.005          1     0  2015      2  Wednesday        17"
      ]
     },
     "execution_count": 132,
     "metadata": {},
     "output_type": "execute_result"
    }
   ],
   "source": [
    "dff.head()"
   ]
  },
  {
   "cell_type": "code",
   "execution_count": 133,
   "id": "9b8896ab-80ca-40da-9017-eb90de81b10b",
   "metadata": {},
   "outputs": [
    {
     "data": {
      "text/plain": [
       "2015    20560\n",
       "Name: year, dtype: int64"
      ]
     },
     "execution_count": 133,
     "metadata": {},
     "output_type": "execute_result"
    }
   ],
   "source": [
    "dff.year.value_counts()"
   ]
  },
  {
   "cell_type": "code",
   "execution_count": 134,
   "id": "0a86cfd9-c180-437b-b526-53d69369d23a",
   "metadata": {},
   "outputs": [
    {
     "data": {
      "text/plain": [
       "2    20560\n",
       "Name: month, dtype: int64"
      ]
     },
     "execution_count": 134,
     "metadata": {},
     "output_type": "execute_result"
    }
   ],
   "source": [
    "dff.month.value_counts()"
   ]
  },
  {
   "cell_type": "code",
   "execution_count": 135,
   "id": "9be532fd-5361-4445-bcff-94050c12cefb",
   "metadata": {},
   "outputs": [
    {
     "data": {
      "text/plain": [
       "Monday       3461\n",
       "Tuesday      3454\n",
       "Thursday     2880\n",
       "Friday       2880\n",
       "Saturday     2880\n",
       "Sunday       2880\n",
       "Wednesday    2125\n",
       "Name: day_name, dtype: int64"
      ]
     },
     "execution_count": 135,
     "metadata": {},
     "output_type": "execute_result"
    }
   ],
   "source": [
    "dff.day_name.value_counts()"
   ]
  },
  {
   "cell_type": "code",
   "execution_count": 136,
   "id": "bf58f570-8601-449c-8ba5-c0346c1f723a",
   "metadata": {},
   "outputs": [
    {
     "data": {
      "text/plain": [
       "19    915\n",
       "22    915\n",
       "1     915\n",
       "4     915\n",
       "7     915\n",
       "21    900\n",
       "0     900\n",
       "3     900\n",
       "18    900\n",
       "6     900\n",
       "5     885\n",
       "8     885\n",
       "20    885\n",
       "23    885\n",
       "2     885\n",
       "16    854\n",
       "15    840\n",
       "17    835\n",
       "9     834\n",
       "10    776\n",
       "14    761\n",
       "13    732\n",
       "12    720\n",
       "11    708\n",
       "Name: day_hour, dtype: int64"
      ]
     },
     "execution_count": 136,
     "metadata": {},
     "output_type": "execute_result"
    }
   ],
   "source": [
    "dff.day_hour.value_counts()"
   ]
  },
  {
   "cell_type": "code",
   "execution_count": 173,
   "id": "8cd4139f-cba7-4d42-a99e-8c8fd1898b9e",
   "metadata": {},
   "outputs": [],
   "source": [
    "# hour\n",
    "dff.loc[(dff[\"day_hour\"] < 12), \"new_hour\"] = \"morning\"\n",
    "dff.loc[(dff[\"day_hour\"] >= 12), \"new_hour\"] = \"noon\"\n",
    "dff.loc[(dff[\"day_hour\"] >= 16 ), \"new_hour\"] = \"afternoon\"\n",
    "dff.loc[(dff[\"day_hour\"] >= 20), \"new_hour\"] = \"evening\""
   ]
  },
  {
   "cell_type": "code",
   "execution_count": 174,
   "id": "ec031703-7fcf-43e9-b3c3-0f9243580bf0",
   "metadata": {},
   "outputs": [
    {
     "data": {
      "text/html": [
       "<div>\n",
       "<style scoped>\n",
       "    .dataframe tbody tr th:only-of-type {\n",
       "        vertical-align: middle;\n",
       "    }\n",
       "\n",
       "    .dataframe tbody tr th {\n",
       "        vertical-align: top;\n",
       "    }\n",
       "\n",
       "    .dataframe thead th {\n",
       "        text-align: right;\n",
       "    }\n",
       "</style>\n",
       "<table border=\"1\" class=\"dataframe\">\n",
       "  <thead>\n",
       "    <tr style=\"text-align: right;\">\n",
       "      <th></th>\n",
       "      <th>date</th>\n",
       "      <th>Temperature</th>\n",
       "      <th>Humidity</th>\n",
       "      <th>Light</th>\n",
       "      <th>CO2</th>\n",
       "      <th>HumidityRatio</th>\n",
       "      <th>Occupancy</th>\n",
       "      <th>Door</th>\n",
       "      <th>year</th>\n",
       "      <th>month</th>\n",
       "      <th>day_name</th>\n",
       "      <th>day_hour</th>\n",
       "      <th>new_hour</th>\n",
       "    </tr>\n",
       "  </thead>\n",
       "  <tbody>\n",
       "    <tr>\n",
       "      <th>0</th>\n",
       "      <td>2015-02-04 17:51:00</td>\n",
       "      <td>23.180</td>\n",
       "      <td>27.272</td>\n",
       "      <td>426.000</td>\n",
       "      <td>721.250</td>\n",
       "      <td>0.005</td>\n",
       "      <td>1</td>\n",
       "      <td>0</td>\n",
       "      <td>2015</td>\n",
       "      <td>2</td>\n",
       "      <td>Wednesday</td>\n",
       "      <td>17</td>\n",
       "      <td>afternoon</td>\n",
       "    </tr>\n",
       "    <tr>\n",
       "      <th>1</th>\n",
       "      <td>2015-02-04 17:51:59</td>\n",
       "      <td>23.150</td>\n",
       "      <td>27.267</td>\n",
       "      <td>429.500</td>\n",
       "      <td>714.000</td>\n",
       "      <td>0.005</td>\n",
       "      <td>1</td>\n",
       "      <td>0</td>\n",
       "      <td>2015</td>\n",
       "      <td>2</td>\n",
       "      <td>Wednesday</td>\n",
       "      <td>17</td>\n",
       "      <td>afternoon</td>\n",
       "    </tr>\n",
       "    <tr>\n",
       "      <th>2</th>\n",
       "      <td>2015-02-04 17:53:00</td>\n",
       "      <td>23.150</td>\n",
       "      <td>27.245</td>\n",
       "      <td>426.000</td>\n",
       "      <td>713.500</td>\n",
       "      <td>0.005</td>\n",
       "      <td>1</td>\n",
       "      <td>0</td>\n",
       "      <td>2015</td>\n",
       "      <td>2</td>\n",
       "      <td>Wednesday</td>\n",
       "      <td>17</td>\n",
       "      <td>afternoon</td>\n",
       "    </tr>\n",
       "    <tr>\n",
       "      <th>3</th>\n",
       "      <td>2015-02-04 17:54:00</td>\n",
       "      <td>23.150</td>\n",
       "      <td>27.200</td>\n",
       "      <td>426.000</td>\n",
       "      <td>708.250</td>\n",
       "      <td>0.005</td>\n",
       "      <td>1</td>\n",
       "      <td>0</td>\n",
       "      <td>2015</td>\n",
       "      <td>2</td>\n",
       "      <td>Wednesday</td>\n",
       "      <td>17</td>\n",
       "      <td>afternoon</td>\n",
       "    </tr>\n",
       "    <tr>\n",
       "      <th>4</th>\n",
       "      <td>2015-02-04 17:55:00</td>\n",
       "      <td>23.100</td>\n",
       "      <td>27.200</td>\n",
       "      <td>426.000</td>\n",
       "      <td>704.500</td>\n",
       "      <td>0.005</td>\n",
       "      <td>1</td>\n",
       "      <td>0</td>\n",
       "      <td>2015</td>\n",
       "      <td>2</td>\n",
       "      <td>Wednesday</td>\n",
       "      <td>17</td>\n",
       "      <td>afternoon</td>\n",
       "    </tr>\n",
       "  </tbody>\n",
       "</table>\n",
       "</div>"
      ],
      "text/plain": [
       "                 date  Temperature  Humidity   Light     CO2  HumidityRatio  Occupancy  Door  year  month   day_name  day_hour   new_hour\n",
       "0 2015-02-04 17:51:00       23.180    27.272 426.000 721.250          0.005          1     0  2015      2  Wednesday        17  afternoon\n",
       "1 2015-02-04 17:51:59       23.150    27.267 429.500 714.000          0.005          1     0  2015      2  Wednesday        17  afternoon\n",
       "2 2015-02-04 17:53:00       23.150    27.245 426.000 713.500          0.005          1     0  2015      2  Wednesday        17  afternoon\n",
       "3 2015-02-04 17:54:00       23.150    27.200 426.000 708.250          0.005          1     0  2015      2  Wednesday        17  afternoon\n",
       "4 2015-02-04 17:55:00       23.100    27.200 426.000 704.500          0.005          1     0  2015      2  Wednesday        17  afternoon"
      ]
     },
     "execution_count": 174,
     "metadata": {},
     "output_type": "execute_result"
    }
   ],
   "source": [
    "dff.head()"
   ]
  },
  {
   "cell_type": "code",
   "execution_count": 175,
   "id": "6bb2ba6b-edca-4d2f-9d9e-04b023b7c1b1",
   "metadata": {},
   "outputs": [],
   "source": [
    "#Temperature\n",
    "dff.loc[(dff[\"Temperature\"] >= 19),\"new_Temperature\" ] = 19\n",
    "dff.loc[(dff[\"Temperature\"] >= 20),\"new_Temperature\" ] = 20\n",
    "dff.loc[(dff[\"Temperature\"] >= 21),\"new_Temperature\" ] = 21\n",
    "dff.loc[(dff[\"Temperature\"] >= 22),\"new_Temperature\" ] = 22\n",
    "dff.loc[(dff[\"Temperature\"] >= 23),\"new_Temperature\" ] = 23\n",
    "dff.loc[(dff[\"Temperature\"] >= 24),\"new_Temperature\" ] = 24"
   ]
  },
  {
   "cell_type": "code",
   "execution_count": 176,
   "id": "c4bb8a8a-d483-4212-9336-5ce6d2b4f97a",
   "metadata": {},
   "outputs": [
    {
     "data": {
      "text/html": [
       "<div>\n",
       "<style scoped>\n",
       "    .dataframe tbody tr th:only-of-type {\n",
       "        vertical-align: middle;\n",
       "    }\n",
       "\n",
       "    .dataframe tbody tr th {\n",
       "        vertical-align: top;\n",
       "    }\n",
       "\n",
       "    .dataframe thead th {\n",
       "        text-align: right;\n",
       "    }\n",
       "</style>\n",
       "<table border=\"1\" class=\"dataframe\">\n",
       "  <thead>\n",
       "    <tr style=\"text-align: right;\">\n",
       "      <th></th>\n",
       "      <th>date</th>\n",
       "      <th>Temperature</th>\n",
       "      <th>Humidity</th>\n",
       "      <th>Light</th>\n",
       "      <th>CO2</th>\n",
       "      <th>HumidityRatio</th>\n",
       "      <th>Occupancy</th>\n",
       "      <th>Door</th>\n",
       "      <th>year</th>\n",
       "      <th>month</th>\n",
       "      <th>day_name</th>\n",
       "      <th>day_hour</th>\n",
       "      <th>new_hour</th>\n",
       "      <th>new_Temperature</th>\n",
       "    </tr>\n",
       "  </thead>\n",
       "  <tbody>\n",
       "    <tr>\n",
       "      <th>0</th>\n",
       "      <td>2015-02-04 17:51:00</td>\n",
       "      <td>23.180</td>\n",
       "      <td>27.272</td>\n",
       "      <td>426.000</td>\n",
       "      <td>721.250</td>\n",
       "      <td>0.005</td>\n",
       "      <td>1</td>\n",
       "      <td>0</td>\n",
       "      <td>2015</td>\n",
       "      <td>2</td>\n",
       "      <td>Wednesday</td>\n",
       "      <td>17</td>\n",
       "      <td>afternoon</td>\n",
       "      <td>23.000</td>\n",
       "    </tr>\n",
       "    <tr>\n",
       "      <th>1</th>\n",
       "      <td>2015-02-04 17:51:59</td>\n",
       "      <td>23.150</td>\n",
       "      <td>27.267</td>\n",
       "      <td>429.500</td>\n",
       "      <td>714.000</td>\n",
       "      <td>0.005</td>\n",
       "      <td>1</td>\n",
       "      <td>0</td>\n",
       "      <td>2015</td>\n",
       "      <td>2</td>\n",
       "      <td>Wednesday</td>\n",
       "      <td>17</td>\n",
       "      <td>afternoon</td>\n",
       "      <td>23.000</td>\n",
       "    </tr>\n",
       "    <tr>\n",
       "      <th>2</th>\n",
       "      <td>2015-02-04 17:53:00</td>\n",
       "      <td>23.150</td>\n",
       "      <td>27.245</td>\n",
       "      <td>426.000</td>\n",
       "      <td>713.500</td>\n",
       "      <td>0.005</td>\n",
       "      <td>1</td>\n",
       "      <td>0</td>\n",
       "      <td>2015</td>\n",
       "      <td>2</td>\n",
       "      <td>Wednesday</td>\n",
       "      <td>17</td>\n",
       "      <td>afternoon</td>\n",
       "      <td>23.000</td>\n",
       "    </tr>\n",
       "    <tr>\n",
       "      <th>3</th>\n",
       "      <td>2015-02-04 17:54:00</td>\n",
       "      <td>23.150</td>\n",
       "      <td>27.200</td>\n",
       "      <td>426.000</td>\n",
       "      <td>708.250</td>\n",
       "      <td>0.005</td>\n",
       "      <td>1</td>\n",
       "      <td>0</td>\n",
       "      <td>2015</td>\n",
       "      <td>2</td>\n",
       "      <td>Wednesday</td>\n",
       "      <td>17</td>\n",
       "      <td>afternoon</td>\n",
       "      <td>23.000</td>\n",
       "    </tr>\n",
       "    <tr>\n",
       "      <th>4</th>\n",
       "      <td>2015-02-04 17:55:00</td>\n",
       "      <td>23.100</td>\n",
       "      <td>27.200</td>\n",
       "      <td>426.000</td>\n",
       "      <td>704.500</td>\n",
       "      <td>0.005</td>\n",
       "      <td>1</td>\n",
       "      <td>0</td>\n",
       "      <td>2015</td>\n",
       "      <td>2</td>\n",
       "      <td>Wednesday</td>\n",
       "      <td>17</td>\n",
       "      <td>afternoon</td>\n",
       "      <td>23.000</td>\n",
       "    </tr>\n",
       "  </tbody>\n",
       "</table>\n",
       "</div>"
      ],
      "text/plain": [
       "                 date  Temperature  Humidity   Light     CO2  HumidityRatio  Occupancy  Door  year  month   day_name  day_hour   new_hour  new_Temperature\n",
       "0 2015-02-04 17:51:00       23.180    27.272 426.000 721.250          0.005          1     0  2015      2  Wednesday        17  afternoon           23.000\n",
       "1 2015-02-04 17:51:59       23.150    27.267 429.500 714.000          0.005          1     0  2015      2  Wednesday        17  afternoon           23.000\n",
       "2 2015-02-04 17:53:00       23.150    27.245 426.000 713.500          0.005          1     0  2015      2  Wednesday        17  afternoon           23.000\n",
       "3 2015-02-04 17:54:00       23.150    27.200 426.000 708.250          0.005          1     0  2015      2  Wednesday        17  afternoon           23.000\n",
       "4 2015-02-04 17:55:00       23.100    27.200 426.000 704.500          0.005          1     0  2015      2  Wednesday        17  afternoon           23.000"
      ]
     },
     "execution_count": 176,
     "metadata": {},
     "output_type": "execute_result"
    }
   ],
   "source": [
    "dff.head()"
   ]
  },
  {
   "cell_type": "markdown",
   "id": "94062b4b-9272-43e8-928e-82c42a84deae",
   "metadata": {},
   "source": [
    "##### VERİ SETİNE EKLEYİM"
   ]
  },
  {
   "cell_type": "code",
   "execution_count": 137,
   "id": "7008df55-319b-4024-a203-3e806839615f",
   "metadata": {},
   "outputs": [
    {
     "data": {
      "text/html": [
       "<div>\n",
       "<style scoped>\n",
       "    .dataframe tbody tr th:only-of-type {\n",
       "        vertical-align: middle;\n",
       "    }\n",
       "\n",
       "    .dataframe tbody tr th {\n",
       "        vertical-align: top;\n",
       "    }\n",
       "\n",
       "    .dataframe thead th {\n",
       "        text-align: right;\n",
       "    }\n",
       "</style>\n",
       "<table border=\"1\" class=\"dataframe\">\n",
       "  <thead>\n",
       "    <tr style=\"text-align: right;\">\n",
       "      <th></th>\n",
       "      <th>date</th>\n",
       "      <th>Temperature</th>\n",
       "      <th>Humidity</th>\n",
       "      <th>Light</th>\n",
       "      <th>CO2</th>\n",
       "      <th>HumidityRatio</th>\n",
       "      <th>Occupancy</th>\n",
       "      <th>Door</th>\n",
       "    </tr>\n",
       "  </thead>\n",
       "  <tbody>\n",
       "    <tr>\n",
       "      <th>0</th>\n",
       "      <td>2015-02-04 17:51:00</td>\n",
       "      <td>23.180</td>\n",
       "      <td>27.272</td>\n",
       "      <td>426.000</td>\n",
       "      <td>721.250</td>\n",
       "      <td>0.005</td>\n",
       "      <td>1</td>\n",
       "      <td>0</td>\n",
       "    </tr>\n",
       "    <tr>\n",
       "      <th>1</th>\n",
       "      <td>2015-02-04 17:51:59</td>\n",
       "      <td>23.150</td>\n",
       "      <td>27.267</td>\n",
       "      <td>429.500</td>\n",
       "      <td>714.000</td>\n",
       "      <td>0.005</td>\n",
       "      <td>1</td>\n",
       "      <td>0</td>\n",
       "    </tr>\n",
       "    <tr>\n",
       "      <th>2</th>\n",
       "      <td>2015-02-04 17:53:00</td>\n",
       "      <td>23.150</td>\n",
       "      <td>27.245</td>\n",
       "      <td>426.000</td>\n",
       "      <td>713.500</td>\n",
       "      <td>0.005</td>\n",
       "      <td>1</td>\n",
       "      <td>0</td>\n",
       "    </tr>\n",
       "    <tr>\n",
       "      <th>3</th>\n",
       "      <td>2015-02-04 17:54:00</td>\n",
       "      <td>23.150</td>\n",
       "      <td>27.200</td>\n",
       "      <td>426.000</td>\n",
       "      <td>708.250</td>\n",
       "      <td>0.005</td>\n",
       "      <td>1</td>\n",
       "      <td>0</td>\n",
       "    </tr>\n",
       "    <tr>\n",
       "      <th>4</th>\n",
       "      <td>2015-02-04 17:55:00</td>\n",
       "      <td>23.100</td>\n",
       "      <td>27.200</td>\n",
       "      <td>426.000</td>\n",
       "      <td>704.500</td>\n",
       "      <td>0.005</td>\n",
       "      <td>1</td>\n",
       "      <td>0</td>\n",
       "    </tr>\n",
       "  </tbody>\n",
       "</table>\n",
       "</div>"
      ],
      "text/plain": [
       "                  date  Temperature  Humidity   Light     CO2  HumidityRatio  Occupancy  Door\n",
       "0  2015-02-04 17:51:00       23.180    27.272 426.000 721.250          0.005          1     0\n",
       "1  2015-02-04 17:51:59       23.150    27.267 429.500 714.000          0.005          1     0\n",
       "2  2015-02-04 17:53:00       23.150    27.245 426.000 713.500          0.005          1     0\n",
       "3  2015-02-04 17:54:00       23.150    27.200 426.000 708.250          0.005          1     0\n",
       "4  2015-02-04 17:55:00       23.100    27.200 426.000 704.500          0.005          1     0"
      ]
     },
     "execution_count": 137,
     "metadata": {},
     "output_type": "execute_result"
    }
   ],
   "source": [
    "df.head()"
   ]
  },
  {
   "cell_type": "code",
   "execution_count": 138,
   "id": "0c9cee56-e28e-4372-9b68-b0d0df064ef4",
   "metadata": {},
   "outputs": [],
   "source": [
    "# DATE\n",
    "df['date'] = pd.to_datetime(df[\"date\"], format=\"%Y-%m-%d\")\n",
    "# day name\n",
    "df['day_name'] = df['date'].dt.day_name()\n",
    "#saat\n",
    "df[\"day_hour\"] = df['date'].dt.hour\n",
    "# hour\n",
    "df.loc[(df[\"day_hour\"] < 12), \"new_hour\"] = \"morning\"\n",
    "df.loc[(df[\"day_hour\"] >= 12), \"new_hour\"] = \"noon\"\n",
    "df.loc[(df[\"day_hour\"] >= 16 ), \"new_hour\"] = \"afternoon\"\n",
    "df.loc[(df[\"day_hour\"] >= 20), \"new_hour\"] = \"evening\""
   ]
  },
  {
   "cell_type": "code",
   "execution_count": 139,
   "id": "f6b8a985-5327-44b2-a1c9-4e0b61241eb4",
   "metadata": {},
   "outputs": [],
   "source": [
    "#Temperature\n",
    "df.loc[(df[\"Temperature\"] >= 19),\"new_Temperature\" ] = 19\n",
    "df.loc[(df[\"Temperature\"] >= 20),\"new_Temperature\" ] = 20\n",
    "df.loc[(df[\"Temperature\"] >= 21),\"new_Temperature\" ] = 21\n",
    "df.loc[(df[\"Temperature\"] >= 22),\"new_Temperature\" ] = 22\n",
    "df.loc[(df[\"Temperature\"] >= 23),\"new_Temperature\" ] = 23\n",
    "df.loc[(df[\"Temperature\"] >= 24),\"new_Temperature\" ] = 24"
   ]
  },
  {
   "cell_type": "code",
   "execution_count": 140,
   "id": "35e49480-e409-4e41-b65c-2b6562852836",
   "metadata": {},
   "outputs": [
    {
     "data": {
      "text/html": [
       "<div>\n",
       "<style scoped>\n",
       "    .dataframe tbody tr th:only-of-type {\n",
       "        vertical-align: middle;\n",
       "    }\n",
       "\n",
       "    .dataframe tbody tr th {\n",
       "        vertical-align: top;\n",
       "    }\n",
       "\n",
       "    .dataframe thead th {\n",
       "        text-align: right;\n",
       "    }\n",
       "</style>\n",
       "<table border=\"1\" class=\"dataframe\">\n",
       "  <thead>\n",
       "    <tr style=\"text-align: right;\">\n",
       "      <th></th>\n",
       "      <th>date</th>\n",
       "      <th>Temperature</th>\n",
       "      <th>Humidity</th>\n",
       "      <th>Light</th>\n",
       "      <th>CO2</th>\n",
       "      <th>HumidityRatio</th>\n",
       "      <th>Occupancy</th>\n",
       "      <th>Door</th>\n",
       "      <th>day_name</th>\n",
       "      <th>day_hour</th>\n",
       "      <th>new_hour</th>\n",
       "      <th>new_Temperature</th>\n",
       "    </tr>\n",
       "  </thead>\n",
       "  <tbody>\n",
       "    <tr>\n",
       "      <th>0</th>\n",
       "      <td>2015-02-04 17:51:00</td>\n",
       "      <td>23.180</td>\n",
       "      <td>27.272</td>\n",
       "      <td>426.000</td>\n",
       "      <td>721.250</td>\n",
       "      <td>0.005</td>\n",
       "      <td>1</td>\n",
       "      <td>0</td>\n",
       "      <td>Wednesday</td>\n",
       "      <td>17</td>\n",
       "      <td>afternoon</td>\n",
       "      <td>23.000</td>\n",
       "    </tr>\n",
       "    <tr>\n",
       "      <th>1</th>\n",
       "      <td>2015-02-04 17:51:59</td>\n",
       "      <td>23.150</td>\n",
       "      <td>27.267</td>\n",
       "      <td>429.500</td>\n",
       "      <td>714.000</td>\n",
       "      <td>0.005</td>\n",
       "      <td>1</td>\n",
       "      <td>0</td>\n",
       "      <td>Wednesday</td>\n",
       "      <td>17</td>\n",
       "      <td>afternoon</td>\n",
       "      <td>23.000</td>\n",
       "    </tr>\n",
       "    <tr>\n",
       "      <th>2</th>\n",
       "      <td>2015-02-04 17:53:00</td>\n",
       "      <td>23.150</td>\n",
       "      <td>27.245</td>\n",
       "      <td>426.000</td>\n",
       "      <td>713.500</td>\n",
       "      <td>0.005</td>\n",
       "      <td>1</td>\n",
       "      <td>0</td>\n",
       "      <td>Wednesday</td>\n",
       "      <td>17</td>\n",
       "      <td>afternoon</td>\n",
       "      <td>23.000</td>\n",
       "    </tr>\n",
       "    <tr>\n",
       "      <th>3</th>\n",
       "      <td>2015-02-04 17:54:00</td>\n",
       "      <td>23.150</td>\n",
       "      <td>27.200</td>\n",
       "      <td>426.000</td>\n",
       "      <td>708.250</td>\n",
       "      <td>0.005</td>\n",
       "      <td>1</td>\n",
       "      <td>0</td>\n",
       "      <td>Wednesday</td>\n",
       "      <td>17</td>\n",
       "      <td>afternoon</td>\n",
       "      <td>23.000</td>\n",
       "    </tr>\n",
       "    <tr>\n",
       "      <th>4</th>\n",
       "      <td>2015-02-04 17:55:00</td>\n",
       "      <td>23.100</td>\n",
       "      <td>27.200</td>\n",
       "      <td>426.000</td>\n",
       "      <td>704.500</td>\n",
       "      <td>0.005</td>\n",
       "      <td>1</td>\n",
       "      <td>0</td>\n",
       "      <td>Wednesday</td>\n",
       "      <td>17</td>\n",
       "      <td>afternoon</td>\n",
       "      <td>23.000</td>\n",
       "    </tr>\n",
       "  </tbody>\n",
       "</table>\n",
       "</div>"
      ],
      "text/plain": [
       "                 date  Temperature  Humidity   Light     CO2  HumidityRatio  Occupancy  Door   day_name  day_hour   new_hour  new_Temperature\n",
       "0 2015-02-04 17:51:00       23.180    27.272 426.000 721.250          0.005          1     0  Wednesday        17  afternoon           23.000\n",
       "1 2015-02-04 17:51:59       23.150    27.267 429.500 714.000          0.005          1     0  Wednesday        17  afternoon           23.000\n",
       "2 2015-02-04 17:53:00       23.150    27.245 426.000 713.500          0.005          1     0  Wednesday        17  afternoon           23.000\n",
       "3 2015-02-04 17:54:00       23.150    27.200 426.000 708.250          0.005          1     0  Wednesday        17  afternoon           23.000\n",
       "4 2015-02-04 17:55:00       23.100    27.200 426.000 704.500          0.005          1     0  Wednesday        17  afternoon           23.000"
      ]
     },
     "execution_count": 140,
     "metadata": {},
     "output_type": "execute_result"
    }
   ],
   "source": [
    "df.head()"
   ]
  },
  {
   "cell_type": "code",
   "execution_count": 141,
   "id": "2c18c6d4-29ad-4ab1-8a06-35058a13d3dc",
   "metadata": {},
   "outputs": [],
   "source": [
    "df = df.drop([\"date\"], axis=1)\n",
    "df = df.drop([\"Temperature\"], axis=1)"
   ]
  },
  {
   "cell_type": "code",
   "execution_count": 142,
   "id": "c5e429af-d396-4529-8b04-3404ee54882e",
   "metadata": {},
   "outputs": [
    {
     "data": {
      "text/html": [
       "<div>\n",
       "<style scoped>\n",
       "    .dataframe tbody tr th:only-of-type {\n",
       "        vertical-align: middle;\n",
       "    }\n",
       "\n",
       "    .dataframe tbody tr th {\n",
       "        vertical-align: top;\n",
       "    }\n",
       "\n",
       "    .dataframe thead th {\n",
       "        text-align: right;\n",
       "    }\n",
       "</style>\n",
       "<table border=\"1\" class=\"dataframe\">\n",
       "  <thead>\n",
       "    <tr style=\"text-align: right;\">\n",
       "      <th></th>\n",
       "      <th>Humidity</th>\n",
       "      <th>Light</th>\n",
       "      <th>CO2</th>\n",
       "      <th>HumidityRatio</th>\n",
       "      <th>Occupancy</th>\n",
       "      <th>Door</th>\n",
       "      <th>day_name</th>\n",
       "      <th>day_hour</th>\n",
       "      <th>new_hour</th>\n",
       "      <th>new_Temperature</th>\n",
       "    </tr>\n",
       "  </thead>\n",
       "  <tbody>\n",
       "    <tr>\n",
       "      <th>0</th>\n",
       "      <td>27.272</td>\n",
       "      <td>426.000</td>\n",
       "      <td>721.250</td>\n",
       "      <td>0.005</td>\n",
       "      <td>1</td>\n",
       "      <td>0</td>\n",
       "      <td>Wednesday</td>\n",
       "      <td>17</td>\n",
       "      <td>afternoon</td>\n",
       "      <td>23.000</td>\n",
       "    </tr>\n",
       "    <tr>\n",
       "      <th>1</th>\n",
       "      <td>27.267</td>\n",
       "      <td>429.500</td>\n",
       "      <td>714.000</td>\n",
       "      <td>0.005</td>\n",
       "      <td>1</td>\n",
       "      <td>0</td>\n",
       "      <td>Wednesday</td>\n",
       "      <td>17</td>\n",
       "      <td>afternoon</td>\n",
       "      <td>23.000</td>\n",
       "    </tr>\n",
       "    <tr>\n",
       "      <th>2</th>\n",
       "      <td>27.245</td>\n",
       "      <td>426.000</td>\n",
       "      <td>713.500</td>\n",
       "      <td>0.005</td>\n",
       "      <td>1</td>\n",
       "      <td>0</td>\n",
       "      <td>Wednesday</td>\n",
       "      <td>17</td>\n",
       "      <td>afternoon</td>\n",
       "      <td>23.000</td>\n",
       "    </tr>\n",
       "    <tr>\n",
       "      <th>3</th>\n",
       "      <td>27.200</td>\n",
       "      <td>426.000</td>\n",
       "      <td>708.250</td>\n",
       "      <td>0.005</td>\n",
       "      <td>1</td>\n",
       "      <td>0</td>\n",
       "      <td>Wednesday</td>\n",
       "      <td>17</td>\n",
       "      <td>afternoon</td>\n",
       "      <td>23.000</td>\n",
       "    </tr>\n",
       "    <tr>\n",
       "      <th>4</th>\n",
       "      <td>27.200</td>\n",
       "      <td>426.000</td>\n",
       "      <td>704.500</td>\n",
       "      <td>0.005</td>\n",
       "      <td>1</td>\n",
       "      <td>0</td>\n",
       "      <td>Wednesday</td>\n",
       "      <td>17</td>\n",
       "      <td>afternoon</td>\n",
       "      <td>23.000</td>\n",
       "    </tr>\n",
       "  </tbody>\n",
       "</table>\n",
       "</div>"
      ],
      "text/plain": [
       "   Humidity   Light     CO2  HumidityRatio  Occupancy  Door   day_name  day_hour   new_hour  new_Temperature\n",
       "0    27.272 426.000 721.250          0.005          1     0  Wednesday        17  afternoon           23.000\n",
       "1    27.267 429.500 714.000          0.005          1     0  Wednesday        17  afternoon           23.000\n",
       "2    27.245 426.000 713.500          0.005          1     0  Wednesday        17  afternoon           23.000\n",
       "3    27.200 426.000 708.250          0.005          1     0  Wednesday        17  afternoon           23.000\n",
       "4    27.200 426.000 704.500          0.005          1     0  Wednesday        17  afternoon           23.000"
      ]
     },
     "execution_count": 142,
     "metadata": {},
     "output_type": "execute_result"
    }
   ],
   "source": [
    "df.head()"
   ]
  },
  {
   "cell_type": "code",
   "execution_count": 143,
   "id": "413dcec2-a8f0-4fac-81c9-31e29ba9424a",
   "metadata": {},
   "outputs": [],
   "source": [
    "# Değişken isimleri büyütmek\n",
    "df.columns = [col.upper() for col in df.columns]"
   ]
  },
  {
   "cell_type": "code",
   "execution_count": 144,
   "id": "48a77941-eef3-4561-bb28-28109b0d45a2",
   "metadata": {},
   "outputs": [
    {
     "data": {
      "text/html": [
       "<div>\n",
       "<style scoped>\n",
       "    .dataframe tbody tr th:only-of-type {\n",
       "        vertical-align: middle;\n",
       "    }\n",
       "\n",
       "    .dataframe tbody tr th {\n",
       "        vertical-align: top;\n",
       "    }\n",
       "\n",
       "    .dataframe thead th {\n",
       "        text-align: right;\n",
       "    }\n",
       "</style>\n",
       "<table border=\"1\" class=\"dataframe\">\n",
       "  <thead>\n",
       "    <tr style=\"text-align: right;\">\n",
       "      <th></th>\n",
       "      <th>HUMIDITY</th>\n",
       "      <th>LIGHT</th>\n",
       "      <th>CO2</th>\n",
       "      <th>HUMIDITYRATIO</th>\n",
       "      <th>OCCUPANCY</th>\n",
       "      <th>DOOR</th>\n",
       "      <th>DAY_NAME</th>\n",
       "      <th>DAY_HOUR</th>\n",
       "      <th>NEW_HOUR</th>\n",
       "      <th>NEW_TEMPERATURE</th>\n",
       "    </tr>\n",
       "  </thead>\n",
       "  <tbody>\n",
       "    <tr>\n",
       "      <th>0</th>\n",
       "      <td>27.272</td>\n",
       "      <td>426.000</td>\n",
       "      <td>721.250</td>\n",
       "      <td>0.005</td>\n",
       "      <td>1</td>\n",
       "      <td>0</td>\n",
       "      <td>Wednesday</td>\n",
       "      <td>17</td>\n",
       "      <td>afternoon</td>\n",
       "      <td>23.000</td>\n",
       "    </tr>\n",
       "    <tr>\n",
       "      <th>1</th>\n",
       "      <td>27.267</td>\n",
       "      <td>429.500</td>\n",
       "      <td>714.000</td>\n",
       "      <td>0.005</td>\n",
       "      <td>1</td>\n",
       "      <td>0</td>\n",
       "      <td>Wednesday</td>\n",
       "      <td>17</td>\n",
       "      <td>afternoon</td>\n",
       "      <td>23.000</td>\n",
       "    </tr>\n",
       "    <tr>\n",
       "      <th>2</th>\n",
       "      <td>27.245</td>\n",
       "      <td>426.000</td>\n",
       "      <td>713.500</td>\n",
       "      <td>0.005</td>\n",
       "      <td>1</td>\n",
       "      <td>0</td>\n",
       "      <td>Wednesday</td>\n",
       "      <td>17</td>\n",
       "      <td>afternoon</td>\n",
       "      <td>23.000</td>\n",
       "    </tr>\n",
       "    <tr>\n",
       "      <th>3</th>\n",
       "      <td>27.200</td>\n",
       "      <td>426.000</td>\n",
       "      <td>708.250</td>\n",
       "      <td>0.005</td>\n",
       "      <td>1</td>\n",
       "      <td>0</td>\n",
       "      <td>Wednesday</td>\n",
       "      <td>17</td>\n",
       "      <td>afternoon</td>\n",
       "      <td>23.000</td>\n",
       "    </tr>\n",
       "    <tr>\n",
       "      <th>4</th>\n",
       "      <td>27.200</td>\n",
       "      <td>426.000</td>\n",
       "      <td>704.500</td>\n",
       "      <td>0.005</td>\n",
       "      <td>1</td>\n",
       "      <td>0</td>\n",
       "      <td>Wednesday</td>\n",
       "      <td>17</td>\n",
       "      <td>afternoon</td>\n",
       "      <td>23.000</td>\n",
       "    </tr>\n",
       "  </tbody>\n",
       "</table>\n",
       "</div>"
      ],
      "text/plain": [
       "   HUMIDITY   LIGHT     CO2  HUMIDITYRATIO  OCCUPANCY  DOOR   DAY_NAME  DAY_HOUR   NEW_HOUR  NEW_TEMPERATURE\n",
       "0    27.272 426.000 721.250          0.005          1     0  Wednesday        17  afternoon           23.000\n",
       "1    27.267 429.500 714.000          0.005          1     0  Wednesday        17  afternoon           23.000\n",
       "2    27.245 426.000 713.500          0.005          1     0  Wednesday        17  afternoon           23.000\n",
       "3    27.200 426.000 708.250          0.005          1     0  Wednesday        17  afternoon           23.000\n",
       "4    27.200 426.000 704.500          0.005          1     0  Wednesday        17  afternoon           23.000"
      ]
     },
     "execution_count": 144,
     "metadata": {},
     "output_type": "execute_result"
    }
   ],
   "source": [
    "df.head()"
   ]
  },
  {
   "cell_type": "code",
   "execution_count": 39,
   "id": "e209bc1a-f00c-46a7-9bbd-c1fc2610aa0b",
   "metadata": {},
   "outputs": [
    {
     "name": "stdout",
     "output_type": "stream",
     "text": [
      "########################## Shape ###########################\n",
      "Observations -------> 20560\n",
      "Features     -------> 10\n",
      "########################## Types ###########################\n",
      "HUMIDITY           float64\n",
      "LIGHT              float64\n",
      "CO2                float64\n",
      "HUMIDITYRATIO      float64\n",
      "OCCUPANCY            int64\n",
      "DOOR                 int64\n",
      "DAY_NAME            object\n",
      "DAY_HOUR             int64\n",
      "NEW_HOUR            object\n",
      "NEW_TEMPERATURE    float64\n",
      "dtype: object\n",
      "########################### İnfo ###########################\n",
      "<class 'pandas.core.frame.DataFrame'>\n",
      "RangeIndex: 20560 entries, 0 to 20559\n",
      "Data columns (total 10 columns):\n",
      " #   Column           Non-Null Count  Dtype  \n",
      "---  ------           --------------  -----  \n",
      " 0   HUMIDITY         20560 non-null  float64\n",
      " 1   LIGHT            20560 non-null  float64\n",
      " 2   CO2              20560 non-null  float64\n",
      " 3   HUMIDITYRATIO    20560 non-null  float64\n",
      " 4   OCCUPANCY        20560 non-null  int64  \n",
      " 5   DOOR             20560 non-null  int64  \n",
      " 6   DAY_NAME         20560 non-null  object \n",
      " 7   DAY_HOUR         20560 non-null  int64  \n",
      " 8   NEW_HOUR         20560 non-null  object \n",
      " 9   NEW_TEMPERATURE  20560 non-null  float64\n",
      "dtypes: float64(5), int64(3), object(2)\n",
      "memory usage: 1.6+ MB\n",
      "None\n",
      "######################### Describe #########################\n",
      "       HUMIDITY     LIGHT       CO2  HUMIDITYRATIO  OCCUPANCY      DOOR  DAY_HOUR  NEW_TEMPERATURE\n",
      "count 20560.000 20560.000 20560.000      20560.000  20560.000 20560.000 20560.000        20560.000\n",
      "mean     27.656   130.757   690.553          0.004      0.231     0.474    11.447           20.441\n",
      "std       4.982   210.431   311.201          0.001      0.422     0.499     7.076            1.080\n",
      "min      16.745     0.000   412.750          0.003      0.000     0.000     0.000           19.000\n",
      "25%      24.500     0.000   460.000          0.004      0.000     0.000     5.000           20.000\n",
      "50%      27.290     0.000   565.417          0.004      0.000     0.000    11.000           20.000\n",
      "75%      31.290   301.000   804.667          0.005      0.000     1.000    18.000           21.000\n",
      "max      39.500  1697.250  2076.500          0.006      1.000     1.000    23.000           24.000\n",
      "########################### Head ###########################\n",
      "   HUMIDITY   LIGHT     CO2  HUMIDITYRATIO  OCCUPANCY  DOOR   DAY_NAME  DAY_HOUR   NEW_HOUR  NEW_TEMPERATURE\n",
      "0    27.272 426.000 721.250          0.005          1     0  Wednesday        17  afternoon           23.000\n",
      "1    27.267 429.500 714.000          0.005          1     0  Wednesday        17  afternoon           23.000\n",
      "2    27.245 426.000 713.500          0.005          1     0  Wednesday        17  afternoon           23.000\n",
      "3    27.200 426.000 708.250          0.005          1     0  Wednesday        17  afternoon           23.000\n",
      "4    27.200 426.000 704.500          0.005          1     0  Wednesday        17  afternoon           23.000\n",
      "########################### Tail ###########################\n",
      "       HUMIDITY   LIGHT      CO2  HUMIDITYRATIO  OCCUPANCY  DOOR   DAY_NAME  DAY_HOUR NEW_HOUR  NEW_TEMPERATURE\n",
      "20555    27.718 429.750 1505.250          0.004          1     1  Wednesday         9  morning           20.000\n",
      "20556    27.745 423.500 1514.500          0.004          1     1  Wednesday         9  morning           20.000\n",
      "20557    27.745 423.500 1521.500          0.004          1     1  Wednesday         9  morning           20.000\n",
      "20558    28.023 418.750 1632.000          0.004          1     1  Wednesday         9  morning           20.000\n",
      "20559    28.100 409.000 1864.000          0.004          1     1  Wednesday         9  morning           21.000\n",
      "############################ NA ############################\n",
      "HUMIDITY           0\n",
      "LIGHT              0\n",
      "CO2                0\n",
      "HUMIDITYRATIO      0\n",
      "OCCUPANCY          0\n",
      "DOOR               0\n",
      "DAY_NAME           0\n",
      "DAY_HOUR           0\n",
      "NEW_HOUR           0\n",
      "NEW_TEMPERATURE    0\n",
      "dtype: int64\n",
      "######################## Quantiles #########################\n",
      "                  0.000   0.050   0.500   0.600   0.800    0.950    0.990    1.000\n",
      "HUMIDITY         16.745  19.050  27.290  28.918  32.290   35.790   38.290   39.500\n",
      "LIGHT             0.000   0.000   0.000   0.000 429.000  502.000  744.000 1697.250\n",
      "CO2             412.750 433.500 565.417 633.500 882.600 1419.762 1719.427 2076.500\n",
      "HUMIDITYRATIO     0.003   0.003   0.004   0.004   0.005    0.005    0.006    0.006\n",
      "OCCUPANCY         0.000   0.000   0.000   0.000   1.000    1.000    1.000    1.000\n",
      "DOOR              0.000   0.000   0.000   1.000   1.000    1.000    1.000    1.000\n",
      "DAY_HOUR          0.000   1.000  11.000  14.000  19.000   22.000   23.000   23.000\n",
      "NEW_TEMPERATURE  19.000  19.000  20.000  20.000  21.000   23.000   23.000   24.000\n"
     ]
    }
   ],
   "source": [
    "check_df(df)"
   ]
  },
  {
   "cell_type": "code",
   "execution_count": 40,
   "id": "0bfa5afe-68e8-4618-9de0-3e37f343483b",
   "metadata": {},
   "outputs": [
    {
     "name": "stdout",
     "output_type": "stream",
     "text": [
      "Observations: 20560\n",
      "Variables: 10\n",
      "cat_cols: 4\n",
      "num_cols: 6\n",
      "cat_but_car: 0\n",
      "num_but_cat: 2\n"
     ]
    }
   ],
   "source": [
    "cat_cols, num_cols, cat_but_car = grab_col_names(df, cat_th=5, car_th=20)"
   ]
  },
  {
   "cell_type": "code",
   "execution_count": 41,
   "id": "088a47fc-9226-497c-a690-4586dc42e868",
   "metadata": {},
   "outputs": [
    {
     "data": {
      "text/plain": [
       "['DAY_NAME', 'NEW_HOUR', 'OCCUPANCY', 'DOOR']"
      ]
     },
     "execution_count": 41,
     "metadata": {},
     "output_type": "execute_result"
    }
   ],
   "source": [
    "cat_cols"
   ]
  },
  {
   "cell_type": "code",
   "execution_count": 42,
   "id": "9b7a2259-1170-4e8c-ad9d-ce67cdc03b9f",
   "metadata": {},
   "outputs": [
    {
     "data": {
      "text/plain": [
       "['HUMIDITY', 'LIGHT', 'CO2', 'HUMIDITYRATIO', 'DAY_HOUR', 'NEW_TEMPERATURE']"
      ]
     },
     "execution_count": 42,
     "metadata": {},
     "output_type": "execute_result"
    }
   ],
   "source": [
    "num_cols"
   ]
  },
  {
   "cell_type": "code",
   "execution_count": 43,
   "id": "aea342cc-771a-4307-ba44-ed3e8c1ce616",
   "metadata": {},
   "outputs": [
    {
     "name": "stdout",
     "output_type": "stream",
     "text": [
      "           DAY_NAME  Ratio\n",
      "Monday         3461 16.834\n",
      "Tuesday        3454 16.800\n",
      "Thursday       2880 14.008\n",
      "Friday         2880 14.008\n",
      "Saturday       2880 14.008\n",
      "Sunday         2880 14.008\n",
      "Wednesday      2125 10.336\n",
      "##########################################\n",
      "           NEW_HOUR  Ratio\n",
      "morning       10418 50.671\n",
      "evening        3585 17.437\n",
      "afternoon      3504 17.043\n",
      "noon           3053 14.849\n",
      "##########################################\n",
      "   OCCUPANCY  Ratio\n",
      "0      15810 76.897\n",
      "1       4750 23.103\n",
      "##########################################\n",
      "    DOOR  Ratio\n",
      "0  10808 52.568\n",
      "1   9752 47.432\n",
      "##########################################\n"
     ]
    }
   ],
   "source": [
    "for col in cat_cols:\n",
    "    cat_summary(df, col)"
   ]
  },
  {
   "cell_type": "code",
   "execution_count": 44,
   "id": "e2d00bd2-2dec-4a50-bc34-2f1b177ac253",
   "metadata": {},
   "outputs": [
    {
     "name": "stdout",
     "output_type": "stream",
     "text": [
      "DAY_NAME\n",
      "           TARGET_MEAN  Count  Ratio\n",
      "Friday           0.375   2880 14.008\n",
      "Monday           0.372   3461 16.834\n",
      "Saturday         0.000   2880 14.008\n",
      "Sunday           0.000   2880 14.008\n",
      "Thursday         0.272   2880 14.008\n",
      "Tuesday          0.345   3454 16.800\n",
      "Wednesday        0.192   2125 10.336\n",
      "\n",
      "\n",
      "NEW_HOUR\n",
      "           TARGET_MEAN  Count  Ratio\n",
      "afternoon        0.355   3504 17.043\n",
      "evening          0.000   3585 17.437\n",
      "morning          0.180  10418 50.671\n",
      "noon             0.536   3053 14.849\n",
      "\n",
      "\n",
      "OCCUPANCY\n",
      "   TARGET_MEAN  Count  Ratio\n",
      "0        0.000  15810 76.897\n",
      "1        1.000   4750 23.103\n",
      "\n",
      "\n",
      "DOOR\n",
      "   TARGET_MEAN  Count  Ratio\n",
      "0        0.250  10808 52.568\n",
      "1        0.210   9752 47.432\n",
      "\n",
      "\n"
     ]
    }
   ],
   "source": [
    "for col in cat_cols:\n",
    "    target_summary_with_cat(df, \"OCCUPANCY\", col)"
   ]
  },
  {
   "cell_type": "code",
   "execution_count": 47,
   "id": "eaa3bd11-1375-483e-b1ea-aa2698f95283",
   "metadata": {},
   "outputs": [],
   "source": [
    "cat_cols = [col for col in cat_cols if \"OCCUPANCY\" not in col]"
   ]
  },
  {
   "cell_type": "code",
   "execution_count": 49,
   "id": "68df49c8-ec6c-4f0f-942f-89b61c375a43",
   "metadata": {},
   "outputs": [],
   "source": [
    "df = one_hot_encoder(df, cat_cols, drop_first=True)"
   ]
  },
  {
   "cell_type": "code",
   "execution_count": 51,
   "id": "960aafac-cf5a-4a4e-b5ac-b509dc2738cd",
   "metadata": {},
   "outputs": [
    {
     "name": "stdout",
     "output_type": "stream",
     "text": [
      "Observations: 20560\n",
      "Variables: 17\n",
      "cat_cols: 11\n",
      "num_cols: 6\n",
      "cat_but_car: 0\n",
      "num_but_cat: 11\n"
     ]
    }
   ],
   "source": [
    "# Son güncel değişken türlerimi tutuyorum.\n",
    "cat_cols, num_cols, cat_but_car = grab_col_names(df, cat_th=5, car_th=20)\n",
    "cat_cols = [col for col in cat_cols if \"OCCUPANCY\" not in col]"
   ]
  },
  {
   "cell_type": "code",
   "execution_count": 52,
   "id": "c8f25138-a860-45d6-9713-686d51c8497f",
   "metadata": {},
   "outputs": [
    {
     "data": {
      "text/plain": [
       "['DAY_NAME_Monday',\n",
       " 'DAY_NAME_Saturday',\n",
       " 'DAY_NAME_Sunday',\n",
       " 'DAY_NAME_Thursday',\n",
       " 'DAY_NAME_Tuesday',\n",
       " 'DAY_NAME_Wednesday',\n",
       " 'NEW_HOUR_evening',\n",
       " 'NEW_HOUR_morning',\n",
       " 'NEW_HOUR_noon',\n",
       " 'DOOR_1']"
      ]
     },
     "execution_count": 52,
     "metadata": {},
     "output_type": "execute_result"
    }
   ],
   "source": [
    "cat_cols"
   ]
  },
  {
   "cell_type": "markdown",
   "id": "5cfd6fe7-11d5-4cf2-aa7b-0dabecbfca79",
   "metadata": {},
   "source": [
    "##### Aykırı gözlem analizi"
   ]
  },
  {
   "cell_type": "code",
   "execution_count": 53,
   "id": "1abdbbe9-6749-47bd-95d2-eb7f430a6baf",
   "metadata": {},
   "outputs": [
    {
     "name": "stdout",
     "output_type": "stream",
     "text": [
      "HUMIDITY False\n",
      "LIGHT True\n",
      "CO2 False\n",
      "HUMIDITYRATIO False\n",
      "DAY_HOUR False\n",
      "NEW_TEMPERATURE False\n"
     ]
    }
   ],
   "source": [
    "# aykırı değer var mı yok mu \n",
    "for col in num_cols:\n",
    "    print(col, check_outlier(df, col))"
   ]
  },
  {
   "cell_type": "code",
   "execution_count": 54,
   "id": "9c1a4805-b2c9-41ed-80c5-ce91e241f4dd",
   "metadata": {},
   "outputs": [],
   "source": [
    "# eşik değer ile doldur\n",
    "replace_with_thresholds(df, \"LIGHT\")"
   ]
  },
  {
   "cell_type": "code",
   "execution_count": 55,
   "id": "8ca98422-7e69-4e42-85a0-1b2d21ca18e0",
   "metadata": {},
   "outputs": [
    {
     "name": "stdout",
     "output_type": "stream",
     "text": [
      "HUMIDITY False\n",
      "LIGHT False\n",
      "CO2 False\n",
      "HUMIDITYRATIO False\n",
      "DAY_HOUR False\n",
      "NEW_TEMPERATURE False\n"
     ]
    }
   ],
   "source": [
    "for col in num_cols:\n",
    "    print(col, check_outlier(df, col))"
   ]
  },
  {
   "cell_type": "markdown",
   "id": "be936d75-f6ea-4dde-982f-b521eb813378",
   "metadata": {},
   "source": [
    "#####  Eksik gözlem analizi"
   ]
  },
  {
   "cell_type": "code",
   "execution_count": 56,
   "id": "ac404135-fa4b-41e4-bd58-c12f3a09dc12",
   "metadata": {},
   "outputs": [
    {
     "data": {
      "text/plain": [
       "HUMIDITY              0\n",
       "DAY_NAME_Sunday       0\n",
       "NEW_HOUR_noon         0\n",
       "NEW_HOUR_morning      0\n",
       "NEW_HOUR_evening      0\n",
       "DAY_NAME_Wednesday    0\n",
       "DAY_NAME_Tuesday      0\n",
       "DAY_NAME_Thursday     0\n",
       "DAY_NAME_Saturday     0\n",
       "LIGHT                 0\n",
       "DAY_NAME_Monday       0\n",
       "NEW_TEMPERATURE       0\n",
       "DAY_HOUR              0\n",
       "OCCUPANCY             0\n",
       "HUMIDITYRATIO         0\n",
       "CO2                   0\n",
       "DOOR_1                0\n",
       "dtype: int64"
      ]
     },
     "execution_count": 56,
     "metadata": {},
     "output_type": "execute_result"
    }
   ],
   "source": [
    "df.isnull().sum().sort_values(ascending=False)"
   ]
  },
  {
   "cell_type": "code",
   "execution_count": 57,
   "id": "bf3a1170-c36f-425c-96fd-34d3361b8f7b",
   "metadata": {},
   "outputs": [],
   "source": [
    "# Standartlaştırma\n",
    "X_scaled = StandardScaler().fit_transform(df[num_cols])\n",
    "# standartlaşmış değerileri colon isimleri ile df atıyorım\n",
    "df[num_cols] = pd.DataFrame(X_scaled, columns=df[num_cols].columns)"
   ]
  },
  {
   "cell_type": "code",
   "execution_count": 60,
   "id": "a78c5918-3947-4020-b6aa-81e46d1f2fea",
   "metadata": {},
   "outputs": [],
   "source": [
    "# Değişken isimleri büyütmek\n",
    "df.columns = [col.upper() for col in df.columns]"
   ]
  },
  {
   "cell_type": "code",
   "execution_count": 61,
   "id": "76774bdf-35e3-46e8-b33a-6e6b6cf1eb84",
   "metadata": {},
   "outputs": [
    {
     "data": {
      "text/html": [
       "<div>\n",
       "<style scoped>\n",
       "    .dataframe tbody tr th:only-of-type {\n",
       "        vertical-align: middle;\n",
       "    }\n",
       "\n",
       "    .dataframe tbody tr th {\n",
       "        vertical-align: top;\n",
       "    }\n",
       "\n",
       "    .dataframe thead th {\n",
       "        text-align: right;\n",
       "    }\n",
       "</style>\n",
       "<table border=\"1\" class=\"dataframe\">\n",
       "  <thead>\n",
       "    <tr style=\"text-align: right;\">\n",
       "      <th></th>\n",
       "      <th>HUMIDITY</th>\n",
       "      <th>LIGHT</th>\n",
       "      <th>CO2</th>\n",
       "      <th>HUMIDITYRATIO</th>\n",
       "      <th>OCCUPANCY</th>\n",
       "      <th>DAY_HOUR</th>\n",
       "      <th>NEW_TEMPERATURE</th>\n",
       "      <th>DAY_NAME_MONDAY</th>\n",
       "      <th>DAY_NAME_SATURDAY</th>\n",
       "      <th>DAY_NAME_SUNDAY</th>\n",
       "      <th>DAY_NAME_THURSDAY</th>\n",
       "      <th>DAY_NAME_TUESDAY</th>\n",
       "      <th>DAY_NAME_WEDNESDAY</th>\n",
       "      <th>NEW_HOUR_EVENING</th>\n",
       "      <th>NEW_HOUR_MORNING</th>\n",
       "      <th>NEW_HOUR_NOON</th>\n",
       "      <th>DOOR_1</th>\n",
       "    </tr>\n",
       "  </thead>\n",
       "  <tbody>\n",
       "    <tr>\n",
       "      <th>0</th>\n",
       "      <td>-0.077</td>\n",
       "      <td>1.406</td>\n",
       "      <td>0.099</td>\n",
       "      <td>0.735</td>\n",
       "      <td>1</td>\n",
       "      <td>0.785</td>\n",
       "      <td>2.370</td>\n",
       "      <td>0</td>\n",
       "      <td>0</td>\n",
       "      <td>0</td>\n",
       "      <td>0</td>\n",
       "      <td>0</td>\n",
       "      <td>1</td>\n",
       "      <td>0</td>\n",
       "      <td>0</td>\n",
       "      <td>0</td>\n",
       "      <td>0</td>\n",
       "    </tr>\n",
       "    <tr>\n",
       "      <th>1</th>\n",
       "      <td>-0.078</td>\n",
       "      <td>1.423</td>\n",
       "      <td>0.075</td>\n",
       "      <td>0.723</td>\n",
       "      <td>1</td>\n",
       "      <td>0.785</td>\n",
       "      <td>2.370</td>\n",
       "      <td>0</td>\n",
       "      <td>0</td>\n",
       "      <td>0</td>\n",
       "      <td>0</td>\n",
       "      <td>0</td>\n",
       "      <td>1</td>\n",
       "      <td>0</td>\n",
       "      <td>0</td>\n",
       "      <td>0</td>\n",
       "      <td>0</td>\n",
       "    </tr>\n",
       "    <tr>\n",
       "      <th>2</th>\n",
       "      <td>-0.082</td>\n",
       "      <td>1.406</td>\n",
       "      <td>0.074</td>\n",
       "      <td>0.718</td>\n",
       "      <td>1</td>\n",
       "      <td>0.785</td>\n",
       "      <td>2.370</td>\n",
       "      <td>0</td>\n",
       "      <td>0</td>\n",
       "      <td>0</td>\n",
       "      <td>0</td>\n",
       "      <td>0</td>\n",
       "      <td>1</td>\n",
       "      <td>0</td>\n",
       "      <td>0</td>\n",
       "      <td>0</td>\n",
       "      <td>0</td>\n",
       "    </tr>\n",
       "    <tr>\n",
       "      <th>3</th>\n",
       "      <td>-0.092</td>\n",
       "      <td>1.406</td>\n",
       "      <td>0.057</td>\n",
       "      <td>0.707</td>\n",
       "      <td>1</td>\n",
       "      <td>0.785</td>\n",
       "      <td>2.370</td>\n",
       "      <td>0</td>\n",
       "      <td>0</td>\n",
       "      <td>0</td>\n",
       "      <td>0</td>\n",
       "      <td>0</td>\n",
       "      <td>1</td>\n",
       "      <td>0</td>\n",
       "      <td>0</td>\n",
       "      <td>0</td>\n",
       "      <td>0</td>\n",
       "    </tr>\n",
       "    <tr>\n",
       "      <th>4</th>\n",
       "      <td>-0.092</td>\n",
       "      <td>1.406</td>\n",
       "      <td>0.045</td>\n",
       "      <td>0.689</td>\n",
       "      <td>1</td>\n",
       "      <td>0.785</td>\n",
       "      <td>2.370</td>\n",
       "      <td>0</td>\n",
       "      <td>0</td>\n",
       "      <td>0</td>\n",
       "      <td>0</td>\n",
       "      <td>0</td>\n",
       "      <td>1</td>\n",
       "      <td>0</td>\n",
       "      <td>0</td>\n",
       "      <td>0</td>\n",
       "      <td>0</td>\n",
       "    </tr>\n",
       "  </tbody>\n",
       "</table>\n",
       "</div>"
      ],
      "text/plain": [
       "   HUMIDITY  LIGHT   CO2  HUMIDITYRATIO  OCCUPANCY  DAY_HOUR  NEW_TEMPERATURE  DAY_NAME_MONDAY  DAY_NAME_SATURDAY  DAY_NAME_SUNDAY  DAY_NAME_THURSDAY  DAY_NAME_TUESDAY  \\\n",
       "0    -0.077  1.406 0.099          0.735          1     0.785            2.370                0                  0                0                  0                 0   \n",
       "1    -0.078  1.423 0.075          0.723          1     0.785            2.370                0                  0                0                  0                 0   \n",
       "2    -0.082  1.406 0.074          0.718          1     0.785            2.370                0                  0                0                  0                 0   \n",
       "3    -0.092  1.406 0.057          0.707          1     0.785            2.370                0                  0                0                  0                 0   \n",
       "4    -0.092  1.406 0.045          0.689          1     0.785            2.370                0                  0                0                  0                 0   \n",
       "\n",
       "   DAY_NAME_WEDNESDAY  NEW_HOUR_EVENING  NEW_HOUR_MORNING  NEW_HOUR_NOON  DOOR_1  \n",
       "0                   1                 0                 0              0       0  \n",
       "1                   1                 0                 0              0       0  \n",
       "2                   1                 0                 0              0       0  \n",
       "3                   1                 0                 0              0       0  \n",
       "4                   1                 0                 0              0       0  "
      ]
     },
     "execution_count": 61,
     "metadata": {},
     "output_type": "execute_result"
    }
   ],
   "source": [
    "df.head()"
   ]
  },
  {
   "cell_type": "code",
   "execution_count": 62,
   "id": "ee5fb43e-1e24-4d95-a3ea-0fdb02b17b32",
   "metadata": {},
   "outputs": [],
   "source": [
    "y = df[\"OCCUPANCY\"]\n",
    "X = df.drop([\"OCCUPANCY\"], axis=1)"
   ]
  },
  {
   "cell_type": "markdown",
   "id": "7932f1ee-0d7a-47fb-8dcc-b70b6ba1dc9a",
   "metadata": {},
   "source": [
    "#### Base Model"
   ]
  },
  {
   "cell_type": "code",
   "execution_count": 148,
   "id": "e21676a2-6788-4334-a502-4d7abe927ed9",
   "metadata": {},
   "outputs": [
    {
     "name": "stdout",
     "output_type": "stream",
     "text": [
      "Base Models....\n",
      "roc_auc: 0.9935 (LR) \n",
      "roc_auc: 0.9449 (KNN) \n",
      "roc_auc: 0.9885 (SVC) \n",
      "roc_auc: 0.8443 (CART) \n",
      "roc_auc: 0.9874 (RF) \n",
      "roc_auc: 0.994 (Adaboost) \n",
      "roc_auc: 0.9869 (GBM) \n"
     ]
    },
    {
     "name": "stderr",
     "output_type": "stream",
     "text": [
      "C:\\ProgramData\\Anaconda3\\lib\\site-packages\\xgboost\\data.py:250: FutureWarning: pandas.Int64Index is deprecated and will be removed from pandas in a future version. Use pandas.Index with the appropriate dtype instead.\n",
      "  elif isinstance(data.columns, (pd.Int64Index, pd.RangeIndex)):\n",
      "C:\\ProgramData\\Anaconda3\\lib\\site-packages\\xgboost\\data.py:250: FutureWarning: pandas.Int64Index is deprecated and will be removed from pandas in a future version. Use pandas.Index with the appropriate dtype instead.\n",
      "  elif isinstance(data.columns, (pd.Int64Index, pd.RangeIndex)):\n",
      "C:\\ProgramData\\Anaconda3\\lib\\site-packages\\xgboost\\data.py:250: FutureWarning: pandas.Int64Index is deprecated and will be removed from pandas in a future version. Use pandas.Index with the appropriate dtype instead.\n",
      "  elif isinstance(data.columns, (pd.Int64Index, pd.RangeIndex)):\n"
     ]
    },
    {
     "name": "stdout",
     "output_type": "stream",
     "text": [
      "roc_auc: 0.9927 (XGBoost) \n",
      "roc_auc: 0.9907 (LightGBM) \n"
     ]
    }
   ],
   "source": [
    "base_models(X,y)"
   ]
  },
  {
   "cell_type": "code",
   "execution_count": 67,
   "id": "4d04ccd0-113b-4be5-8be0-94975e38dcc1",
   "metadata": {},
   "outputs": [
    {
     "name": "stdout",
     "output_type": "stream",
     "text": [
      "Base Models....\n",
      "accuracy: 0.9828 (LR) \n",
      "accuracy: 0.9438 (KNN) \n",
      "accuracy: 0.9692 (SVC) \n",
      "accuracy: 0.9059 (CART) \n",
      "accuracy: 0.9726 (RF) \n",
      "accuracy: 0.9653 (Adaboost) \n",
      "accuracy: 0.9615 (GBM) \n"
     ]
    },
    {
     "name": "stderr",
     "output_type": "stream",
     "text": [
      "C:\\ProgramData\\Anaconda3\\lib\\site-packages\\xgboost\\data.py:250: FutureWarning: pandas.Int64Index is deprecated and will be removed from pandas in a future version. Use pandas.Index with the appropriate dtype instead.\n",
      "  elif isinstance(data.columns, (pd.Int64Index, pd.RangeIndex)):\n",
      "C:\\ProgramData\\Anaconda3\\lib\\site-packages\\xgboost\\data.py:250: FutureWarning: pandas.Int64Index is deprecated and will be removed from pandas in a future version. Use pandas.Index with the appropriate dtype instead.\n",
      "  elif isinstance(data.columns, (pd.Int64Index, pd.RangeIndex)):\n",
      "C:\\ProgramData\\Anaconda3\\lib\\site-packages\\xgboost\\data.py:250: FutureWarning: pandas.Int64Index is deprecated and will be removed from pandas in a future version. Use pandas.Index with the appropriate dtype instead.\n",
      "  elif isinstance(data.columns, (pd.Int64Index, pd.RangeIndex)):\n"
     ]
    },
    {
     "name": "stdout",
     "output_type": "stream",
     "text": [
      "accuracy: 0.9698 (XGBoost) \n",
      "accuracy: 0.961 (LightGBM) \n"
     ]
    }
   ],
   "source": [
    "base_models(X, y, scoring=\"accuracy\")"
   ]
  },
  {
   "cell_type": "code",
   "execution_count": 68,
   "id": "d98f9ff4-da17-48f7-988d-070685f1bfad",
   "metadata": {},
   "outputs": [
    {
     "name": "stdout",
     "output_type": "stream",
     "text": [
      "Base Models....\n",
      "f1: 0.9624 (LR) \n",
      "f1: 0.875 (KNN) \n",
      "f1: 0.9298 (SVC) \n",
      "f1: 0.7827 (CART) \n",
      "f1: 0.941 (RF) \n",
      "f1: 0.9224 (Adaboost) \n",
      "f1: 0.9147 (GBM) \n"
     ]
    },
    {
     "name": "stderr",
     "output_type": "stream",
     "text": [
      "C:\\ProgramData\\Anaconda3\\lib\\site-packages\\xgboost\\data.py:250: FutureWarning: pandas.Int64Index is deprecated and will be removed from pandas in a future version. Use pandas.Index with the appropriate dtype instead.\n",
      "  elif isinstance(data.columns, (pd.Int64Index, pd.RangeIndex)):\n",
      "C:\\ProgramData\\Anaconda3\\lib\\site-packages\\xgboost\\data.py:250: FutureWarning: pandas.Int64Index is deprecated and will be removed from pandas in a future version. Use pandas.Index with the appropriate dtype instead.\n",
      "  elif isinstance(data.columns, (pd.Int64Index, pd.RangeIndex)):\n",
      "C:\\ProgramData\\Anaconda3\\lib\\site-packages\\xgboost\\data.py:250: FutureWarning: pandas.Int64Index is deprecated and will be removed from pandas in a future version. Use pandas.Index with the appropriate dtype instead.\n",
      "  elif isinstance(data.columns, (pd.Int64Index, pd.RangeIndex)):\n"
     ]
    },
    {
     "name": "stdout",
     "output_type": "stream",
     "text": [
      "f1: 0.9335 (XGBoost) \n",
      "f1: 0.9145 (LightGBM) \n"
     ]
    }
   ],
   "source": [
    "base_models(X, y, scoring=\"f1\")"
   ]
  },
  {
   "cell_type": "markdown",
   "id": "2c752171-84f2-431b-b384-21760ef28edc",
   "metadata": {},
   "source": [
    "##### Automated Hyperparameter Optimization"
   ]
  },
  {
   "cell_type": "code",
   "execution_count": 69,
   "id": "d3f9bcb4-777e-4831-91a6-83b75e46a354",
   "metadata": {},
   "outputs": [],
   "source": [
    "knn_params = {\"n_neighbors\": range(2, 50)}\n",
    "\n",
    "cart_params = {'max_depth': range(1, 20),\n",
    "               \"min_samples_split\": range(2, 30)}\n",
    "\n",
    "rf_params = {\"max_depth\": [8, 15, None],\n",
    "             \"max_features\": [5, 7, \"auto\"],\n",
    "             \"min_samples_split\": [15, 20],\n",
    "             \"n_estimators\": [200, 300]}\n",
    "\n",
    "xgboost_params = {\"learning_rate\": [0.1, 0.01],\n",
    "                  \"max_depth\": [5, 8],\n",
    "                  \"n_estimators\": [100, 200]}\n",
    "\n",
    "lightgbm_params = {\"learning_rate\": [0.01, 0.1],\n",
    "                   \"n_estimators\": [300, 500]}"
   ]
  },
  {
   "cell_type": "code",
   "execution_count": 70,
   "id": "f7dcd59d-1d33-4f1b-96d6-9a59d6948958",
   "metadata": {},
   "outputs": [],
   "source": [
    "classifiers = [('KNN', KNeighborsClassifier(), knn_params),\n",
    "               (\"CART\", DecisionTreeClassifier(), cart_params),\n",
    "               (\"RF\", RandomForestClassifier(), rf_params),\n",
    "               ('XGBoost', XGBClassifier(use_label_encoder=False, eval_metric='logloss'), xgboost_params),\n",
    "               ('LightGBM', LGBMClassifier(), lightgbm_params)]"
   ]
  },
  {
   "cell_type": "code",
   "execution_count": 71,
   "id": "3a9e0413-6305-4ffb-8189-cd935dd06a50",
   "metadata": {},
   "outputs": [],
   "source": [
    "def hyperparameter_optimization(X, y, cv=3, scoring=\"roc_auc\"):\n",
    "    print(\"Hyperparameter Optimization....\")\n",
    "    best_models = {}\n",
    "    for name, classifier, params in classifiers:\n",
    "        print(f\"########## {name} ##########\")\n",
    "        cv_results = cross_validate(classifier, X, y, cv=cv, scoring=scoring)\n",
    "        print(f\"{scoring} (Before): {round(cv_results['test_score'].mean(), 4)}\")\n",
    "\n",
    "        gs_best = GridSearchCV(classifier, params, cv=cv, n_jobs=-1, verbose=False).fit(X, y)\n",
    "        final_model = classifier.set_params(**gs_best.best_params_)\n",
    "\n",
    "        cv_results = cross_validate(final_model, X, y, cv=cv, scoring=scoring)\n",
    "        print(f\"{scoring} (After): {round(cv_results['test_score'].mean(), 4)}\")\n",
    "        print(f\"{name} best params: {gs_best.best_params_}\", end=\"\\n\\n\")\n",
    "        best_models[name] = final_model\n",
    "    return best_models"
   ]
  },
  {
   "cell_type": "code",
   "execution_count": 72,
   "id": "12c77ade-fa42-4a9a-9bea-6ed5c5892527",
   "metadata": {},
   "outputs": [
    {
     "name": "stdout",
     "output_type": "stream",
     "text": [
      "Hyperparameter Optimization....\n",
      "########## KNN ##########\n",
      "roc_auc (Before): 0.9449\n",
      "roc_auc (After): 0.9836\n",
      "KNN best params: {'n_neighbors': 37}\n",
      "\n",
      "########## CART ##########\n",
      "roc_auc (Before): 0.8415\n",
      "roc_auc (After): 0.9901\n",
      "CART best params: {'max_depth': 1, 'min_samples_split': 2}\n",
      "\n",
      "########## RF ##########\n",
      "roc_auc (Before): 0.9892\n",
      "roc_auc (After): 0.9938\n",
      "RF best params: {'max_depth': 8, 'max_features': 'auto', 'min_samples_split': 20, 'n_estimators': 300}\n",
      "\n",
      "########## XGBoost ##########\n"
     ]
    },
    {
     "name": "stderr",
     "output_type": "stream",
     "text": [
      "C:\\ProgramData\\Anaconda3\\lib\\site-packages\\xgboost\\data.py:250: FutureWarning: pandas.Int64Index is deprecated and will be removed from pandas in a future version. Use pandas.Index with the appropriate dtype instead.\n",
      "  elif isinstance(data.columns, (pd.Int64Index, pd.RangeIndex)):\n",
      "C:\\ProgramData\\Anaconda3\\lib\\site-packages\\xgboost\\data.py:250: FutureWarning: pandas.Int64Index is deprecated and will be removed from pandas in a future version. Use pandas.Index with the appropriate dtype instead.\n",
      "  elif isinstance(data.columns, (pd.Int64Index, pd.RangeIndex)):\n",
      "C:\\ProgramData\\Anaconda3\\lib\\site-packages\\xgboost\\data.py:250: FutureWarning: pandas.Int64Index is deprecated and will be removed from pandas in a future version. Use pandas.Index with the appropriate dtype instead.\n",
      "  elif isinstance(data.columns, (pd.Int64Index, pd.RangeIndex)):\n"
     ]
    },
    {
     "name": "stdout",
     "output_type": "stream",
     "text": [
      "roc_auc (Before): 0.9927\n"
     ]
    },
    {
     "name": "stderr",
     "output_type": "stream",
     "text": [
      "C:\\ProgramData\\Anaconda3\\lib\\site-packages\\xgboost\\data.py:250: FutureWarning: pandas.Int64Index is deprecated and will be removed from pandas in a future version. Use pandas.Index with the appropriate dtype instead.\n",
      "  elif isinstance(data.columns, (pd.Int64Index, pd.RangeIndex)):\n",
      "C:\\ProgramData\\Anaconda3\\lib\\site-packages\\xgboost\\data.py:250: FutureWarning: pandas.Int64Index is deprecated and will be removed from pandas in a future version. Use pandas.Index with the appropriate dtype instead.\n",
      "  elif isinstance(data.columns, (pd.Int64Index, pd.RangeIndex)):\n",
      "C:\\ProgramData\\Anaconda3\\lib\\site-packages\\xgboost\\data.py:250: FutureWarning: pandas.Int64Index is deprecated and will be removed from pandas in a future version. Use pandas.Index with the appropriate dtype instead.\n",
      "  elif isinstance(data.columns, (pd.Int64Index, pd.RangeIndex)):\n",
      "C:\\ProgramData\\Anaconda3\\lib\\site-packages\\xgboost\\data.py:250: FutureWarning: pandas.Int64Index is deprecated and will be removed from pandas in a future version. Use pandas.Index with the appropriate dtype instead.\n",
      "  elif isinstance(data.columns, (pd.Int64Index, pd.RangeIndex)):\n"
     ]
    },
    {
     "name": "stdout",
     "output_type": "stream",
     "text": [
      "roc_auc (After): 0.9904\n",
      "XGBoost best params: {'learning_rate': 0.01, 'max_depth': 5, 'n_estimators': 100}\n",
      "\n",
      "########## LightGBM ##########\n",
      "roc_auc (Before): 0.9907\n",
      "roc_auc (After): 0.9939\n",
      "LightGBM best params: {'learning_rate': 0.01, 'n_estimators': 300}\n",
      "\n"
     ]
    }
   ],
   "source": [
    "best_models = hyperparameter_optimization(X, y)"
   ]
  },
  {
   "cell_type": "code",
   "execution_count": 80,
   "id": "ede3815e-be4e-4307-b9f3-d6a1f4b09b64",
   "metadata": {},
   "outputs": [],
   "source": [
    "rf_model = LGBMClassifier(random_state=17)"
   ]
  },
  {
   "cell_type": "code",
   "execution_count": 83,
   "id": "8e770b60-bf9a-4a7d-aa53-31bc78da12b4",
   "metadata": {},
   "outputs": [],
   "source": [
    "rf_final = rf_model.set_params(learning_rate= 0.01, n_estimators= 300,  random_state=17).fit(X, y)"
   ]
  },
  {
   "cell_type": "code",
   "execution_count": 84,
   "id": "b32246c7-a8db-4627-bfdf-c531520704cf",
   "metadata": {},
   "outputs": [
    {
     "data": {
      "text/plain": [
       "0.9672665369649807"
      ]
     },
     "execution_count": 84,
     "metadata": {},
     "output_type": "execute_result"
    }
   ],
   "source": [
    "cv_results = cross_validate(rf_final, X, y, cv=10, scoring=[\"accuracy\", \"f1\", \"roc_auc\"])\n",
    "cv_results['test_accuracy'].mean()"
   ]
  },
  {
   "cell_type": "code",
   "execution_count": 85,
   "id": "ef4f152a-e9c2-47af-8feb-8703894ba3f4",
   "metadata": {},
   "outputs": [
    {
     "data": {
      "text/plain": [
       "0.9337145375819154"
      ]
     },
     "execution_count": 85,
     "metadata": {},
     "output_type": "execute_result"
    }
   ],
   "source": [
    "cv_results['test_f1'].mean()"
   ]
  },
  {
   "cell_type": "code",
   "execution_count": 86,
   "id": "2ab80a08-2831-4a4a-aa1b-5aefbe1d00d1",
   "metadata": {},
   "outputs": [
    {
     "data": {
      "text/plain": [
       "0.9922029361829621"
      ]
     },
     "execution_count": 86,
     "metadata": {},
     "output_type": "execute_result"
    }
   ],
   "source": [
    "cv_results['test_roc_auc'].mean()"
   ]
  },
  {
   "cell_type": "markdown",
   "id": "9847e879-a873-4b16-a188-934c5b3ff9d0",
   "metadata": {},
   "source": [
    "##### Prediction for a New Observation"
   ]
  },
  {
   "cell_type": "code",
   "execution_count": 87,
   "id": "eace20f6-1e56-4eb3-965f-de82dcaff5b6",
   "metadata": {},
   "outputs": [
    {
     "data": {
      "text/plain": [
       "Index(['HUMIDITY', 'LIGHT', 'CO2', 'HUMIDITYRATIO', 'DAY_HOUR', 'NEW_TEMPERATURE', 'DAY_NAME_MONDAY', 'DAY_NAME_SATURDAY', 'DAY_NAME_SUNDAY', 'DAY_NAME_THURSDAY',\n",
       "       'DAY_NAME_TUESDAY', 'DAY_NAME_WEDNESDAY', 'NEW_HOUR_EVENING', 'NEW_HOUR_MORNING', 'NEW_HOUR_NOON', 'DOOR_1'],\n",
       "      dtype='object')"
      ]
     },
     "execution_count": 87,
     "metadata": {},
     "output_type": "execute_result"
    }
   ],
   "source": [
    "X.columns"
   ]
  },
  {
   "cell_type": "code",
   "execution_count": 88,
   "id": "636b27ed-f5a6-4280-8944-e80b3fc5c515",
   "metadata": {},
   "outputs": [],
   "source": [
    "random_user = X.sample(1, random_state=45)"
   ]
  },
  {
   "cell_type": "code",
   "execution_count": 89,
   "id": "d23394f2-4504-4c02-8c25-799dc8e75706",
   "metadata": {},
   "outputs": [
    {
     "data": {
      "text/html": [
       "<div>\n",
       "<style scoped>\n",
       "    .dataframe tbody tr th:only-of-type {\n",
       "        vertical-align: middle;\n",
       "    }\n",
       "\n",
       "    .dataframe tbody tr th {\n",
       "        vertical-align: top;\n",
       "    }\n",
       "\n",
       "    .dataframe thead th {\n",
       "        text-align: right;\n",
       "    }\n",
       "</style>\n",
       "<table border=\"1\" class=\"dataframe\">\n",
       "  <thead>\n",
       "    <tr style=\"text-align: right;\">\n",
       "      <th></th>\n",
       "      <th>HUMIDITY</th>\n",
       "      <th>LIGHT</th>\n",
       "      <th>CO2</th>\n",
       "      <th>HUMIDITYRATIO</th>\n",
       "      <th>DAY_HOUR</th>\n",
       "      <th>NEW_TEMPERATURE</th>\n",
       "      <th>DAY_NAME_MONDAY</th>\n",
       "      <th>DAY_NAME_SATURDAY</th>\n",
       "      <th>DAY_NAME_SUNDAY</th>\n",
       "      <th>DAY_NAME_THURSDAY</th>\n",
       "      <th>DAY_NAME_TUESDAY</th>\n",
       "      <th>DAY_NAME_WEDNESDAY</th>\n",
       "      <th>NEW_HOUR_EVENING</th>\n",
       "      <th>NEW_HOUR_MORNING</th>\n",
       "      <th>NEW_HOUR_NOON</th>\n",
       "      <th>DOOR_1</th>\n",
       "    </tr>\n",
       "  </thead>\n",
       "  <tbody>\n",
       "    <tr>\n",
       "      <th>10262</th>\n",
       "      <td>-0.533</td>\n",
       "      <td>-0.622</td>\n",
       "      <td>-0.557</td>\n",
       "      <td>-0.569</td>\n",
       "      <td>-1.476</td>\n",
       "      <td>-0.409</td>\n",
       "      <td>0</td>\n",
       "      <td>0</td>\n",
       "      <td>0</td>\n",
       "      <td>0</td>\n",
       "      <td>0</td>\n",
       "      <td>1</td>\n",
       "      <td>0</td>\n",
       "      <td>1</td>\n",
       "      <td>0</td>\n",
       "      <td>0</td>\n",
       "    </tr>\n",
       "  </tbody>\n",
       "</table>\n",
       "</div>"
      ],
      "text/plain": [
       "       HUMIDITY  LIGHT    CO2  HUMIDITYRATIO  DAY_HOUR  NEW_TEMPERATURE  DAY_NAME_MONDAY  DAY_NAME_SATURDAY  DAY_NAME_SUNDAY  DAY_NAME_THURSDAY  DAY_NAME_TUESDAY  \\\n",
       "10262    -0.533 -0.622 -0.557         -0.569    -1.476           -0.409                0                  0                0                  0                 0   \n",
       "\n",
       "       DAY_NAME_WEDNESDAY  NEW_HOUR_EVENING  NEW_HOUR_MORNING  NEW_HOUR_NOON  DOOR_1  \n",
       "10262                   1                 0                 1              0       0  "
      ]
     },
     "execution_count": 89,
     "metadata": {},
     "output_type": "execute_result"
    }
   ],
   "source": [
    "random_user"
   ]
  },
  {
   "cell_type": "code",
   "execution_count": 90,
   "id": "70fc7e9a-1b4f-49b6-95d7-da406d32e8d9",
   "metadata": {},
   "outputs": [
    {
     "data": {
      "text/plain": [
       "array([0], dtype=int64)"
      ]
     },
     "execution_count": 90,
     "metadata": {},
     "output_type": "execute_result"
    }
   ],
   "source": [
    "rf_final.predict(random_user)"
   ]
  },
  {
   "cell_type": "code",
   "execution_count": 93,
   "id": "511d25b6-cd3a-491d-8af4-6e2c68180a08",
   "metadata": {},
   "outputs": [
    {
     "name": "stdout",
     "output_type": "stream",
     "text": [
      "[[15728    82]\n",
      " [   25  4725]]\n"
     ]
    }
   ],
   "source": [
    "from sklearn.metrics import confusion_matrix\n",
    "y_pred =rf_final.predict(X)\n",
    "print(confusion_matrix(y, y_pred))"
   ]
  },
  {
   "cell_type": "markdown",
   "id": "73066372-187d-464c-a607-b041fbcc0f10",
   "metadata": {},
   "source": [
    "###### Feature Importance"
   ]
  },
  {
   "cell_type": "code",
   "execution_count": 95,
   "id": "ce349a21-8f23-47c0-852d-6e02500256ae",
   "metadata": {},
   "outputs": [],
   "source": [
    "# yeni eklenenler etkiler.\n",
    "def plot_importance(model, features, num=len(X), save=False):\n",
    "    feature_imp = pd.DataFrame({'Value': model.feature_importances_, 'Feature': features.columns})\n",
    "    plt.figure(figsize=(10, 10))\n",
    "    sns.set(font_scale=1)\n",
    "    sns.barplot(x=\"Value\", y=\"Feature\", data=feature_imp.sort_values(by=\"Value\",\n",
    "                                                                     ascending=False)[0:num])\n",
    "    plt.title('Features')\n",
    "    plt.tight_layout()\n",
    "    plt.show()\n",
    "    if save:\n",
    "        plt.savefig('importances.png')"
   ]
  },
  {
   "cell_type": "code",
   "execution_count": 96,
   "id": "8faf5fb9-114d-43f3-9778-b55fb199dd9e",
   "metadata": {},
   "outputs": [
    {
     "data": {
      "image/png": "[encoded data removed]",
      "text/plain": [
       "<Figure size 720x720 with 1 Axes>"
      ]
     },
     "metadata": {},
     "output_type": "display_data"
    }
   ],
   "source": [
    "plot_importance(rf_final, X)"
   ]
  }
 ],
 "metadata": {
  "kernelspec": {
   "display_name": "Python 3 (ipykernel)",
   "language": "python",
   "name": "python3"
  },
  "language_info": {
   "codemirror_mode": {
    "name": "ipython",
    "version": 3
   },
   "file_extension": ".py",
   "mimetype": "text/x-python",
   "name": "python",
   "nbconvert_exporter": "python",
   "pygments_lexer": "ipython3",
   "version": "3.9.12"
  }
 },
 "nbformat": 4,
 "nbformat_minor": 5
}
